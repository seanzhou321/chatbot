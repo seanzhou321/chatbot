{
 "cells": [
  {
   "cell_type": "code",
   "execution_count": 14,
   "metadata": {},
   "outputs": [
    {
     "name": "stdout",
     "output_type": "stream",
     "text": [
      "Starting LLM call...\n",
      "LLM call completed\n"
     ]
    }
   ],
   "source": [
    "from langchain.schema.runnable import RunnableConfig\n",
    "from langchain_core.callbacks import BaseCallbackHandler\n",
    "from langchain.schema.messages import HumanMessage\n",
    "from langchain_ollama import ChatOllama\n",
    "import asyncio\n",
    "import nest_asyncio\n",
    "\n",
    "# Apply nest_asyncio to allow nested event loops (useful in Jupyter notebooks)\n",
    "nest_asyncio.apply()\n",
    "\n",
    "# Custom callback handler for logging\n",
    "class LoggingCallback(BaseCallbackHandler):\n",
    "    def on_llm_start(self, *args, **kwargs):\n",
    "        print(\"Starting LLM call...\")\n",
    "    \n",
    "    def on_llm_end(self, *args, **kwargs):\n",
    "        print(\"LLM call completed\")\n",
    "    \n",
    "    def on_chain_start(self, *args, **kwargs):\n",
    "        print(\"Starting chain execution...\")\n",
    "\n",
    "# Initialize the callback handler\n",
    "callback_handler = LoggingCallback()\n",
    "\n",
    "# Initialize the model\n",
    "embedding_mode = \"qwen2.5:14b\"\n",
    "# model = ChatOllama(model=embedding_mode, temperature=0, callbacks=[callback_handler])\n",
    "model = ChatOllama(model=embedding_mode, temperature=0)\n",
    "\n",
    "# Basic config with tags\n",
    "basic_config: RunnableConfig = {\n",
    "    \"tags\": [\"customer-support\", \"urgent\"],\n",
    "    \"metadata\": {\"user_id\": \"123\", \"session_id\": \"abc\"}\n",
    "}\n",
    "\n",
    "# Config with callbacks\n",
    "config_with_callbacks: RunnableConfig = {\n",
    "    \"callbacks\": [callback_handler],\n",
    "    \"tags\": [\"support\"],\n",
    "    \"metadata\": {\"priority\": \"high\"}\n",
    "}\n",
    "\n",
    "# Config with timeout and retry settings\n",
    "advanced_config: RunnableConfig = {\n",
    "    \"max_concurrency\": 5,\n",
    "    \"run_name\": \"customer_query\",\n",
    "    \"timeout\": 10.0,  # timeout in seconds\n",
    "    \"tags\": [\"production\"],\n",
    "    \"metadata\": {\n",
    "        \"department\": \"sales\",\n",
    "        \"version\": \"1.0\"\n",
    "    }\n",
    "}\n",
    "\n",
    "# Example usage with synchronous calls\n",
    "def process_query(query: str, config: RunnableConfig):\n",
    "    messages = [HumanMessage(content=query)]\n",
    "    try:\n",
    "        response = model.invoke(messages, config=config)\n",
    "        return response.content\n",
    "    except Exception as e:\n",
    "        print(f\"Error processing query: {e}\")\n",
    "        return None\n",
    "\n",
    "# Example usage with async calls\n",
    "async def process_queries_batch(queries: list[str], config: RunnableConfig):\n",
    "    messages_list = [[HumanMessage(content=q)] for q in queries]\n",
    "    try:\n",
    "        responses = await model.abatch(messages_list, config=config)\n",
    "        return [r.content for r in responses]\n",
    "    except Exception as e:\n",
    "        print(f\"Error processing batch: {e}\")\n",
    "        return None\n",
    "\n",
    "# Example usage: \n",
    "# Play with running with callbacks added directly to the model and/or at the invoke/abatch. \n",
    "if __name__ == \"__main__\":\n",
    "    # Synchronous example\n",
    "    query = \"What's the most important city in the world?\"\n",
    "    result = process_query(query, config_with_callbacks)\n",
    "    \n",
    "    # Asynchronous batch example\n",
    "    queries = [\"What's the most important city in the world?\", \"Why is it important?\"]\n",
    "    async def run_batch():\n",
    "        results = await process_queries_batch(queries, advanced_config)\n",
    "        return results\n",
    "    \n",
    "    batch_results = asyncio.run(run_batch())"
   ]
  },
  {
   "cell_type": "code",
   "execution_count": 11,
   "metadata": {},
   "outputs": [
    {
     "name": "stdout",
     "output_type": "stream",
     "text": [
      "Determining the \"most important\" city in the world can be subjective and depends on various criteria such as economic power, cultural influence, political significance, or technological innovation. Different cities excel in different areas:\n",
      "\n",
      "1. **Economic Power**: Cities like New York City (USA) and London (UK) are often considered global financial centers due to their significant roles in international finance and trade.\n",
      "\n",
      "2. **Political Influence**: Washington D.C. (USA), as the capital of one of the world's most powerful nations, plays a crucial role in global politics and diplomacy.\n",
      "\n",
      "3. **Cultural Impact**: Cities like Paris (France) and Tokyo (Japan) are renowned for their cultural contributions to art, fashion, cuisine, and entertainment.\n",
      "\n",
      "4. **Technological Innovation**: Silicon Valley (San Francisco Bay Area, USA) is pivotal in the tech industry, driving innovation and shaping global technology trends.\n",
      "\n",
      "5. **Historical Significance**: Cities like Rome (Italy), Jerusalem (Israel/Palestine), and Beijing (China) hold immense historical importance and influence cultural and religious practices worldwide.\n",
      "\n",
      "Each of these cities plays a unique role on the global stage, making it difficult to single out one as definitively \"the most important.\" The significance of a city often depends on the context in which its impact is being measured.\n"
     ]
    }
   ],
   "source": [
    "print(result)"
   ]
  },
  {
   "cell_type": "code",
   "execution_count": 12,
   "metadata": {},
   "outputs": [
    {
     "name": "stdout",
     "output_type": "stream",
     "text": [
      "['Determining the \"most important\" city in the world can be subjective and depends on various criteria such as economic power, cultural influence, political significance, or technological innovation. Different cities excel in different areas:\\n\\n1. **Economic Power**: Cities like New York City (USA) and London (UK) are often considered global financial centers due to their significant roles in international finance and trade.\\n\\n2. **Political Influence**: Washington D.C. (USA), as the capital of one of the world\\'s most powerful nations, plays a crucial role in global politics and diplomacy.\\n\\n3. **Cultural Impact**: Cities like Paris (France) and Tokyo (Japan) are renowned for their cultural contributions to art, fashion, cuisine, and entertainment.\\n\\n4. **Technological Innovation**: Silicon Valley (San Francisco Bay Area, USA) is pivotal in the tech industry, driving innovation and shaping global technology trends.\\n\\n5. **Historical Significance**: Cities like Rome (Italy), Jerusalem (Israel/Palestine), and Beijing (China) hold immense historical importance and influence cultural and religious practices worldwide.\\n\\nEach of these cities plays a unique role on the global stage, making it difficult to single out one as definitively \"the most important.\" The significance of a city often depends on the context in which its impact is being measured.', 'To provide an accurate and meaningful response, could you please clarify what specific topic or concept you\\'re referring to as \"it\"? The importance of something can vary widely depending on the context—whether it\\'s related to education, technology, environmental issues, personal development, or another area. Providing more details will help me give you a better answer.']\n"
     ]
    }
   ],
   "source": [
    "print(batch_results)"
   ]
  }
 ],
 "metadata": {
  "kernelspec": {
   "display_name": "venv",
   "language": "python",
   "name": "python3"
  },
  "language_info": {
   "codemirror_mode": {
    "name": "ipython",
    "version": 3
   },
   "file_extension": ".py",
   "mimetype": "text/x-python",
   "name": "python",
   "nbconvert_exporter": "python",
   "pygments_lexer": "ipython3",
   "version": "3.12.7"
  }
 },
 "nbformat": 4,
 "nbformat_minor": 2
}
