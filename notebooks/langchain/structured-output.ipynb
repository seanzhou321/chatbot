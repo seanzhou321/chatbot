{
 "cells": [
  {
   "cell_type": "markdown",
   "metadata": {},
   "source": [
    "# Pydantic Parser for Structured Output\n",
    "\n",
    "https://python.langchain.com/docs/how_to/structured_output/#prompting-and-parsing-model-outputs-directly"
   ]
  },
  {
   "cell_type": "code",
   "execution_count": 1,
   "metadata": {},
   "outputs": [],
   "source": [
    "from typing import List, Literal, Union\n",
    "\n",
    "from langchain_core.output_parsers import PydanticOutputParser\n",
    "from langchain_core.exceptions import OutputParserException\n",
    "from langchain_core.prompts import PromptTemplate\n",
    "from pydantic import BaseModel, Field\n",
    "\n",
    "from langchain_ollama import ChatOllama\n",
    "from langchain_core.prompts import ChatPromptTemplate\n",
    "\n",
    "llm = ChatOllama(model=\"qwen2.5:14b\", temperature=0)\n"
   ]
  },
  {
   "cell_type": "code",
   "execution_count": 9,
   "metadata": {},
   "outputs": [
    {
     "name": "stdout",
     "output_type": "stream",
     "text": [
      "The output should be formatted as a JSON instance that conforms to the JSON schema below.\n",
      "\n",
      "As an example, for the schema {\"properties\": {\"foo\": {\"title\": \"Foo\", \"description\": \"a list of strings\", \"type\": \"array\", \"items\": {\"type\": \"string\"}}}, \"required\": [\"foo\"]}\n",
      "the object {\"foo\": [\"bar\", \"baz\"]} is a well-formatted instance of the schema. The object {\"properties\": {\"foo\": [\"bar\", \"baz\"]}} is not well-formatted.\n",
      "\n",
      "Here is the output schema:\n",
      "```\n",
      "{\"$defs\": {\"Person\": {\"description\": \"Information about a person.\", \"properties\": {\"name\": {\"description\": \"The name of the person\", \"title\": \"Name\", \"type\": \"string\"}, \"height_in_meters\": {\"description\": \"The height of the person expressed in meters.\", \"title\": \"Height In Meters\", \"type\": \"number\"}}, \"required\": [\"name\", \"height_in_meters\"], \"title\": \"Person\", \"type\": \"object\"}}, \"description\": \"Identifying information about all people in a text.\", \"properties\": {\"people\": {\"items\": {\"$ref\": \"#/$defs/Person\"}, \"title\": \"People\", \"type\": \"array\"}}, \"required\": [\"people\"]}\n",
      "```\n"
     ]
    }
   ],
   "source": [
    "# nested model example\n",
    "\n",
    "class Person(BaseModel):\n",
    "    \"\"\"Information about a person.\"\"\"\n",
    "\n",
    "    name: str = Field(..., description=\"The name of the person\")\n",
    "    height_in_meters: float = Field(\n",
    "        ..., description=\"The height of the person expressed in meters.\"\n",
    "    )\n",
    "\n",
    "\n",
    "class People(BaseModel):\n",
    "    \"\"\"Identifying information about all people in a text.\"\"\"\n",
    "\n",
    "    people: List[Person]\n",
    "\n",
    "\n",
    "# Set up a parser\n",
    "people_parser = PydanticOutputParser(pydantic_object=People)\n",
    "\n",
    "# Prompt\n",
    "people_prompt = ChatPromptTemplate.from_messages(\n",
    "    [\n",
    "        (\n",
    "            \"system\",\n",
    "            \"Answer the user query. Wrap the output in `json` tags\\n{format_instructions}\",\n",
    "        ),\n",
    "        (\"human\", \"{query}\"),\n",
    "    ]\n",
    ").partial(format_instructions=people_parser.get_format_instructions())\n",
    "# inspect the output formatting instruction\n",
    "\n",
    "print(people_parser.get_format_instructions())"
   ]
  },
  {
   "cell_type": "code",
   "execution_count": 11,
   "metadata": {},
   "outputs": [
    {
     "name": "stdout",
     "output_type": "stream",
     "text": [
      "System: Answer the user query. Wrap the output in `json` tags\n",
      "The output should be formatted as a JSON instance that conforms to the JSON schema below.\n",
      "\n",
      "As an example, for the schema {\"properties\": {\"foo\": {\"title\": \"Foo\", \"description\": \"a list of strings\", \"type\": \"array\", \"items\": {\"type\": \"string\"}}}, \"required\": [\"foo\"]}\n",
      "the object {\"foo\": [\"bar\", \"baz\"]} is a well-formatted instance of the schema. The object {\"properties\": {\"foo\": [\"bar\", \"baz\"]}} is not well-formatted.\n",
      "\n",
      "Here is the output schema:\n",
      "```\n",
      "{\"$defs\": {\"Person\": {\"description\": \"Information about a person.\", \"properties\": {\"name\": {\"description\": \"The name of the person\", \"title\": \"Name\", \"type\": \"string\"}, \"height_in_meters\": {\"description\": \"The height of the person expressed in meters.\", \"title\": \"Height In Meters\", \"type\": \"number\"}}, \"required\": [\"name\", \"height_in_meters\"], \"title\": \"Person\", \"type\": \"object\"}}, \"description\": \"Identifying information about all people in a text.\", \"properties\": {\"people\": {\"items\": {\"$ref\": \"#/$defs/Person\"}, \"title\": \"People\", \"type\": \"array\"}}, \"required\": [\"people\"]}\n",
      "```\n",
      "Human: Anna is 23 years old and she is 6 feet tall\n"
     ]
    }
   ],
   "source": [
    "# inspect the prompt submitting to LLM\n",
    "\n",
    "people_query = \"Anna is 23 years old and she is 6 feet tall\"\n",
    "\n",
    "print(people_prompt.invoke(people_query).to_string())"
   ]
  },
  {
   "cell_type": "code",
   "execution_count": 12,
   "metadata": {},
   "outputs": [
    {
     "data": {
      "text/plain": [
       "People(people=[Person(name='Anna', height_in_meters=1.8288)])"
      ]
     },
     "execution_count": 12,
     "metadata": {},
     "output_type": "execute_result"
    }
   ],
   "source": [
    "people_chain = people_prompt | llm | people_parser\n",
    "\n",
    "people_chain.invoke({\"query\": people_query})"
   ]
  },
  {
   "cell_type": "markdown",
   "metadata": {},
   "source": [
    "# Union of Multiple Output Classes"
   ]
  },
  {
   "cell_type": "code",
   "execution_count": 2,
   "metadata": {},
   "outputs": [],
   "source": [
    "# First, let's define our base models for different types of responses\n",
    "class MovieReview(BaseModel):\n",
    "    \"\"\"Information about a movie.\"\"\"\n",
    "    media_type: Literal[\"movie\"] = \"movie\"\n",
    "    title: str = Field(description=\"Title of the movie\")\n",
    "    rating: int = Field(description=\"Rating from 1-5\", ge=1, le=5)\n",
    "    review: str = Field(description=\"Brief review text\")\n",
    "\n",
    "class BookReview(BaseModel):\n",
    "    \"\"\"Information about a book.\"\"\"\n",
    "    media_type: Literal[\"book\"] = \"book\"\n",
    "    title: str = Field(description=\"Title of the book\")\n",
    "    author: str = Field(description=\"Author of the book\")\n",
    "    rating: int = Field(description=\"Rating from 1-5\", ge=1, le=5)\n",
    "    review: str = Field(description=\"Brief review text\")\n",
    "\n",
    "class GameReview(BaseModel):\n",
    "    \"\"\"Information about a game.\"\"\"\n",
    "    media_type: Literal[\"game\"] = \"game\"\n",
    "    title: str = Field(description=\"Title of the game\")\n",
    "    platform: str = Field(description=\"Gaming platform (e.g., PC, PS5, Xbox)\")\n",
    "    rating: int = Field(description=\"Rating from 1-5\", ge=1, le=5)\n",
    "    review: str = Field(description=\"Brief review text\")\n",
    "\n",
    "# Create a shared parent class for all review types\n",
    "class ReviewUnion(BaseModel):\n",
    "    review: MovieReview | BookReview | GameReview = Field(..., discriminator='media_type')\n"
   ]
  },
  {
   "cell_type": "code",
   "execution_count": 3,
   "metadata": {},
   "outputs": [],
   "source": [
    "\n",
    "# Create a prompt template\n",
    "multi_review_template = \"\"\"\n",
    "System: Provide a succinct and concise review for the following entertainment item: {item}\n",
    "\n",
    "{format_instructions}\n",
    "\n",
    "\"\"\"\n"
   ]
  },
  {
   "cell_type": "code",
   "execution_count": 4,
   "metadata": {},
   "outputs": [
    {
     "name": "stdout",
     "output_type": "stream",
     "text": [
      "The output should be formatted as a JSON instance that conforms to the JSON schema below.\n",
      "\n",
      "As an example, for the schema {\"properties\": {\"foo\": {\"title\": \"Foo\", \"description\": \"a list of strings\", \"type\": \"array\", \"items\": {\"type\": \"string\"}}}, \"required\": [\"foo\"]}\n",
      "the object {\"foo\": [\"bar\", \"baz\"]} is a well-formatted instance of the schema. The object {\"properties\": {\"foo\": [\"bar\", \"baz\"]}} is not well-formatted.\n",
      "\n",
      "Here is the output schema:\n",
      "```\n",
      "{\"description\": \"Information about a movie.\", \"properties\": {\"media_type\": {\"const\": \"movie\", \"default\": \"movie\", \"enum\": [\"movie\"], \"title\": \"Media Type\", \"type\": \"string\"}, \"title\": {\"description\": \"Title of the movie\", \"title\": \"Title\", \"type\": \"string\"}, \"rating\": {\"description\": \"Rating from 1-5\", \"maximum\": 5, \"minimum\": 1, \"title\": \"Rating\", \"type\": \"integer\"}, \"review\": {\"description\": \"Brief review text\", \"title\": \"Review\", \"type\": \"string\"}}, \"required\": [\"title\", \"rating\", \"review\"]}\n",
      "```\n"
     ]
    }
   ],
   "source": [
    "movie_parser = PydanticOutputParser(pydantic_object=MovieReview)\n",
    "\n",
    "movie_prompt = PromptTemplate(\n",
    "    template=multi_review_template,\n",
    "    input_variables=[\"item\"],\n",
    "    partial_variables={\"format_instructions\": movie_parser.get_format_instructions()}\n",
    ")\n",
    "\n",
    "movie_chain = movie_prompt | llm | movie_parser\n",
    "def get_movie_review(item_description: str):\n",
    "    \n",
    "    try:\n",
    "        # Run the chain\n",
    "        result = movie_chain.invoke({\"item\": item_description})\n",
    "        return result\n",
    "    except OutputParserException as e:\n",
    "        print(f\"Parsing error: {e}\")\n",
    "        return None\n",
    "\n",
    "print(movie_parser.get_format_instructions())\n"
   ]
  },
  {
   "cell_type": "code",
   "execution_count": 5,
   "metadata": {},
   "outputs": [
    {
     "name": "stdout",
     "output_type": "stream",
     "text": [
      "The output should be formatted as a JSON instance that conforms to the JSON schema below.\n",
      "\n",
      "As an example, for the schema {\"properties\": {\"foo\": {\"title\": \"Foo\", \"description\": \"a list of strings\", \"type\": \"array\", \"items\": {\"type\": \"string\"}}}, \"required\": [\"foo\"]}\n",
      "the object {\"foo\": [\"bar\", \"baz\"]} is a well-formatted instance of the schema. The object {\"properties\": {\"foo\": [\"bar\", \"baz\"]}} is not well-formatted.\n",
      "\n",
      "Here is the output schema:\n",
      "```\n",
      "{\"$defs\": {\"BookReview\": {\"description\": \"Information about a book.\", \"properties\": {\"media_type\": {\"const\": \"book\", \"default\": \"book\", \"enum\": [\"book\"], \"title\": \"Media Type\", \"type\": \"string\"}, \"title\": {\"description\": \"Title of the book\", \"title\": \"Title\", \"type\": \"string\"}, \"author\": {\"description\": \"Author of the book\", \"title\": \"Author\", \"type\": \"string\"}, \"rating\": {\"description\": \"Rating from 1-5\", \"maximum\": 5, \"minimum\": 1, \"title\": \"Rating\", \"type\": \"integer\"}, \"review\": {\"description\": \"Brief review text\", \"title\": \"Review\", \"type\": \"string\"}}, \"required\": [\"title\", \"author\", \"rating\", \"review\"], \"title\": \"BookReview\", \"type\": \"object\"}, \"GameReview\": {\"description\": \"Information about a game.\", \"properties\": {\"media_type\": {\"const\": \"game\", \"default\": \"game\", \"enum\": [\"game\"], \"title\": \"Media Type\", \"type\": \"string\"}, \"title\": {\"description\": \"Title of the game\", \"title\": \"Title\", \"type\": \"string\"}, \"platform\": {\"description\": \"Gaming platform (e.g., PC, PS5, Xbox)\", \"title\": \"Platform\", \"type\": \"string\"}, \"rating\": {\"description\": \"Rating from 1-5\", \"maximum\": 5, \"minimum\": 1, \"title\": \"Rating\", \"type\": \"integer\"}, \"review\": {\"description\": \"Brief review text\", \"title\": \"Review\", \"type\": \"string\"}}, \"required\": [\"title\", \"platform\", \"rating\", \"review\"], \"title\": \"GameReview\", \"type\": \"object\"}, \"MovieReview\": {\"description\": \"Information about a movie.\", \"properties\": {\"media_type\": {\"const\": \"movie\", \"default\": \"movie\", \"enum\": [\"movie\"], \"title\": \"Media Type\", \"type\": \"string\"}, \"title\": {\"description\": \"Title of the movie\", \"title\": \"Title\", \"type\": \"string\"}, \"rating\": {\"description\": \"Rating from 1-5\", \"maximum\": 5, \"minimum\": 1, \"title\": \"Rating\", \"type\": \"integer\"}, \"review\": {\"description\": \"Brief review text\", \"title\": \"Review\", \"type\": \"string\"}}, \"required\": [\"title\", \"rating\", \"review\"], \"title\": \"MovieReview\", \"type\": \"object\"}}, \"properties\": {\"review\": {\"discriminator\": {\"mapping\": {\"book\": \"#/$defs/BookReview\", \"game\": \"#/$defs/GameReview\", \"movie\": \"#/$defs/MovieReview\"}, \"propertyName\": \"media_type\"}, \"oneOf\": [{\"$ref\": \"#/$defs/MovieReview\"}, {\"$ref\": \"#/$defs/BookReview\"}, {\"$ref\": \"#/$defs/GameReview\"}], \"title\": \"Review\"}}, \"required\": [\"review\"]}\n",
      "```\n"
     ]
    }
   ],
   "source": [
    "# Create the parser with the parent class\n",
    "multiple_review_parser = PydanticOutputParser(pydantic_object=ReviewUnion)\n",
    "\n",
    "multi_review_prompt = PromptTemplate(\n",
    "    template=multi_review_template,\n",
    "    input_variables=[\"item\"],\n",
    "    partial_variables={\"format_instructions\": multiple_review_parser.get_format_instructions()}\n",
    ")\n",
    "\n",
    "multi_review_chain = multi_review_prompt | llm | multiple_review_parser\n",
    "\n",
    "# Function to process reviews\n",
    "def get_review(item_description: str):\n",
    "    \n",
    "    try:\n",
    "        # Run the chain\n",
    "        result = multi_review_chain.invoke({\"item\": item_description})\n",
    "        return result\n",
    "    except OutputParserException as e:\n",
    "        print(f\"Parsing error: {e}\")\n",
    "        return None\n",
    "\n",
    "print(multiple_review_parser.get_format_instructions())\n"
   ]
  },
  {
   "cell_type": "code",
   "execution_count": 6,
   "metadata": {},
   "outputs": [
    {
     "name": "stdout",
     "output_type": "stream",
     "text": [
      "\n",
      "Multi-review prompt for: The Matrix (1999 sci-fi film)\n",
      "\n",
      "System: Provide a succinct and concise review for the following entertainment item: The Matrix (1999 sci-fi film)\n",
      "\n",
      "The output should be formatted as a JSON instance that conforms to the JSON schema below.\n",
      "\n",
      "As an example, for the schema {\"properties\": {\"foo\": {\"title\": \"Foo\", \"description\": \"a list of strings\", \"type\": \"array\", \"items\": {\"type\": \"string\"}}}, \"required\": [\"foo\"]}\n",
      "the object {\"foo\": [\"bar\", \"baz\"]} is a well-formatted instance of the schema. The object {\"properties\": {\"foo\": [\"bar\", \"baz\"]}} is not well-formatted.\n",
      "\n",
      "Here is the output schema:\n",
      "```\n",
      "{\"$defs\": {\"BookReview\": {\"description\": \"Information about a book.\", \"properties\": {\"media_type\": {\"const\": \"book\", \"default\": \"book\", \"enum\": [\"book\"], \"title\": \"Media Type\", \"type\": \"string\"}, \"title\": {\"description\": \"Title of the book\", \"title\": \"Title\", \"type\": \"string\"}, \"author\": {\"description\": \"Author of the book\", \"title\": \"Author\", \"type\": \"string\"}, \"rating\": {\"description\": \"Rating from 1-5\", \"maximum\": 5, \"minimum\": 1, \"title\": \"Rating\", \"type\": \"integer\"}, \"review\": {\"description\": \"Brief review text\", \"title\": \"Review\", \"type\": \"string\"}}, \"required\": [\"title\", \"author\", \"rating\", \"review\"], \"title\": \"BookReview\", \"type\": \"object\"}, \"GameReview\": {\"description\": \"Information about a game.\", \"properties\": {\"media_type\": {\"const\": \"game\", \"default\": \"game\", \"enum\": [\"game\"], \"title\": \"Media Type\", \"type\": \"string\"}, \"title\": {\"description\": \"Title of the game\", \"title\": \"Title\", \"type\": \"string\"}, \"platform\": {\"description\": \"Gaming platform (e.g., PC, PS5, Xbox)\", \"title\": \"Platform\", \"type\": \"string\"}, \"rating\": {\"description\": \"Rating from 1-5\", \"maximum\": 5, \"minimum\": 1, \"title\": \"Rating\", \"type\": \"integer\"}, \"review\": {\"description\": \"Brief review text\", \"title\": \"Review\", \"type\": \"string\"}}, \"required\": [\"title\", \"platform\", \"rating\", \"review\"], \"title\": \"GameReview\", \"type\": \"object\"}, \"MovieReview\": {\"description\": \"Information about a movie.\", \"properties\": {\"media_type\": {\"const\": \"movie\", \"default\": \"movie\", \"enum\": [\"movie\"], \"title\": \"Media Type\", \"type\": \"string\"}, \"title\": {\"description\": \"Title of the movie\", \"title\": \"Title\", \"type\": \"string\"}, \"rating\": {\"description\": \"Rating from 1-5\", \"maximum\": 5, \"minimum\": 1, \"title\": \"Rating\", \"type\": \"integer\"}, \"review\": {\"description\": \"Brief review text\", \"title\": \"Review\", \"type\": \"string\"}}, \"required\": [\"title\", \"rating\", \"review\"], \"title\": \"MovieReview\", \"type\": \"object\"}}, \"properties\": {\"review\": {\"discriminator\": {\"mapping\": {\"book\": \"#/$defs/BookReview\", \"game\": \"#/$defs/GameReview\", \"movie\": \"#/$defs/MovieReview\"}, \"propertyName\": \"media_type\"}, \"oneOf\": [{\"$ref\": \"#/$defs/MovieReview\"}, {\"$ref\": \"#/$defs/BookReview\"}, {\"$ref\": \"#/$defs/GameReview\"}], \"title\": \"Review\"}}, \"required\": [\"review\"]}\n",
      "```\n",
      "\n",
      "\n",
      "\n",
      "Movie-review prompt for: The Matrix (1999 sci-fi film)\n",
      "\n",
      "System: Provide a succinct and concise review for the following entertainment item: The Matrix (1999 sci-fi film)\n",
      "\n",
      "The output should be formatted as a JSON instance that conforms to the JSON schema below.\n",
      "\n",
      "As an example, for the schema {\"properties\": {\"foo\": {\"title\": \"Foo\", \"description\": \"a list of strings\", \"type\": \"array\", \"items\": {\"type\": \"string\"}}}, \"required\": [\"foo\"]}\n",
      "the object {\"foo\": [\"bar\", \"baz\"]} is a well-formatted instance of the schema. The object {\"properties\": {\"foo\": [\"bar\", \"baz\"]}} is not well-formatted.\n",
      "\n",
      "Here is the output schema:\n",
      "```\n",
      "{\"description\": \"Information about a movie.\", \"properties\": {\"media_type\": {\"const\": \"movie\", \"default\": \"movie\", \"enum\": [\"movie\"], \"title\": \"Media Type\", \"type\": \"string\"}, \"title\": {\"description\": \"Title of the movie\", \"title\": \"Title\", \"type\": \"string\"}, \"rating\": {\"description\": \"Rating from 1-5\", \"maximum\": 5, \"minimum\": 1, \"title\": \"Rating\", \"type\": \"integer\"}, \"review\": {\"description\": \"Brief review text\", \"title\": \"Review\", \"type\": \"string\"}}, \"required\": [\"title\", \"rating\", \"review\"]}\n",
      "```\n",
      "\n",
      "\n",
      "\n",
      "Multi-review prompt for: The Hunger Games by Suzanne Collins\n",
      "\n",
      "System: Provide a succinct and concise review for the following entertainment item: The Hunger Games by Suzanne Collins\n",
      "\n",
      "The output should be formatted as a JSON instance that conforms to the JSON schema below.\n",
      "\n",
      "As an example, for the schema {\"properties\": {\"foo\": {\"title\": \"Foo\", \"description\": \"a list of strings\", \"type\": \"array\", \"items\": {\"type\": \"string\"}}}, \"required\": [\"foo\"]}\n",
      "the object {\"foo\": [\"bar\", \"baz\"]} is a well-formatted instance of the schema. The object {\"properties\": {\"foo\": [\"bar\", \"baz\"]}} is not well-formatted.\n",
      "\n",
      "Here is the output schema:\n",
      "```\n",
      "{\"$defs\": {\"BookReview\": {\"description\": \"Information about a book.\", \"properties\": {\"media_type\": {\"const\": \"book\", \"default\": \"book\", \"enum\": [\"book\"], \"title\": \"Media Type\", \"type\": \"string\"}, \"title\": {\"description\": \"Title of the book\", \"title\": \"Title\", \"type\": \"string\"}, \"author\": {\"description\": \"Author of the book\", \"title\": \"Author\", \"type\": \"string\"}, \"rating\": {\"description\": \"Rating from 1-5\", \"maximum\": 5, \"minimum\": 1, \"title\": \"Rating\", \"type\": \"integer\"}, \"review\": {\"description\": \"Brief review text\", \"title\": \"Review\", \"type\": \"string\"}}, \"required\": [\"title\", \"author\", \"rating\", \"review\"], \"title\": \"BookReview\", \"type\": \"object\"}, \"GameReview\": {\"description\": \"Information about a game.\", \"properties\": {\"media_type\": {\"const\": \"game\", \"default\": \"game\", \"enum\": [\"game\"], \"title\": \"Media Type\", \"type\": \"string\"}, \"title\": {\"description\": \"Title of the game\", \"title\": \"Title\", \"type\": \"string\"}, \"platform\": {\"description\": \"Gaming platform (e.g., PC, PS5, Xbox)\", \"title\": \"Platform\", \"type\": \"string\"}, \"rating\": {\"description\": \"Rating from 1-5\", \"maximum\": 5, \"minimum\": 1, \"title\": \"Rating\", \"type\": \"integer\"}, \"review\": {\"description\": \"Brief review text\", \"title\": \"Review\", \"type\": \"string\"}}, \"required\": [\"title\", \"platform\", \"rating\", \"review\"], \"title\": \"GameReview\", \"type\": \"object\"}, \"MovieReview\": {\"description\": \"Information about a movie.\", \"properties\": {\"media_type\": {\"const\": \"movie\", \"default\": \"movie\", \"enum\": [\"movie\"], \"title\": \"Media Type\", \"type\": \"string\"}, \"title\": {\"description\": \"Title of the movie\", \"title\": \"Title\", \"type\": \"string\"}, \"rating\": {\"description\": \"Rating from 1-5\", \"maximum\": 5, \"minimum\": 1, \"title\": \"Rating\", \"type\": \"integer\"}, \"review\": {\"description\": \"Brief review text\", \"title\": \"Review\", \"type\": \"string\"}}, \"required\": [\"title\", \"rating\", \"review\"], \"title\": \"MovieReview\", \"type\": \"object\"}}, \"properties\": {\"review\": {\"discriminator\": {\"mapping\": {\"book\": \"#/$defs/BookReview\", \"game\": \"#/$defs/GameReview\", \"movie\": \"#/$defs/MovieReview\"}, \"propertyName\": \"media_type\"}, \"oneOf\": [{\"$ref\": \"#/$defs/MovieReview\"}, {\"$ref\": \"#/$defs/BookReview\"}, {\"$ref\": \"#/$defs/GameReview\"}], \"title\": \"Review\"}}, \"required\": [\"review\"]}\n",
      "```\n",
      "\n",
      "\n",
      "\n",
      "Movie-review prompt for: The Hunger Games by Suzanne Collins\n",
      "\n",
      "System: Provide a succinct and concise review for the following entertainment item: The Hunger Games by Suzanne Collins\n",
      "\n",
      "The output should be formatted as a JSON instance that conforms to the JSON schema below.\n",
      "\n",
      "As an example, for the schema {\"properties\": {\"foo\": {\"title\": \"Foo\", \"description\": \"a list of strings\", \"type\": \"array\", \"items\": {\"type\": \"string\"}}}, \"required\": [\"foo\"]}\n",
      "the object {\"foo\": [\"bar\", \"baz\"]} is a well-formatted instance of the schema. The object {\"properties\": {\"foo\": [\"bar\", \"baz\"]}} is not well-formatted.\n",
      "\n",
      "Here is the output schema:\n",
      "```\n",
      "{\"description\": \"Information about a movie.\", \"properties\": {\"media_type\": {\"const\": \"movie\", \"default\": \"movie\", \"enum\": [\"movie\"], \"title\": \"Media Type\", \"type\": \"string\"}, \"title\": {\"description\": \"Title of the movie\", \"title\": \"Title\", \"type\": \"string\"}, \"rating\": {\"description\": \"Rating from 1-5\", \"maximum\": 5, \"minimum\": 1, \"title\": \"Rating\", \"type\": \"integer\"}, \"review\": {\"description\": \"Brief review text\", \"title\": \"Review\", \"type\": \"string\"}}, \"required\": [\"title\", \"rating\", \"review\"]}\n",
      "```\n",
      "\n",
      "\n",
      "\n",
      "Multi-review prompt for: Red Dead Redemption 2 for PS4\n",
      "\n",
      "System: Provide a succinct and concise review for the following entertainment item: Red Dead Redemption 2 for PS4\n",
      "\n",
      "The output should be formatted as a JSON instance that conforms to the JSON schema below.\n",
      "\n",
      "As an example, for the schema {\"properties\": {\"foo\": {\"title\": \"Foo\", \"description\": \"a list of strings\", \"type\": \"array\", \"items\": {\"type\": \"string\"}}}, \"required\": [\"foo\"]}\n",
      "the object {\"foo\": [\"bar\", \"baz\"]} is a well-formatted instance of the schema. The object {\"properties\": {\"foo\": [\"bar\", \"baz\"]}} is not well-formatted.\n",
      "\n",
      "Here is the output schema:\n",
      "```\n",
      "{\"$defs\": {\"BookReview\": {\"description\": \"Information about a book.\", \"properties\": {\"media_type\": {\"const\": \"book\", \"default\": \"book\", \"enum\": [\"book\"], \"title\": \"Media Type\", \"type\": \"string\"}, \"title\": {\"description\": \"Title of the book\", \"title\": \"Title\", \"type\": \"string\"}, \"author\": {\"description\": \"Author of the book\", \"title\": \"Author\", \"type\": \"string\"}, \"rating\": {\"description\": \"Rating from 1-5\", \"maximum\": 5, \"minimum\": 1, \"title\": \"Rating\", \"type\": \"integer\"}, \"review\": {\"description\": \"Brief review text\", \"title\": \"Review\", \"type\": \"string\"}}, \"required\": [\"title\", \"author\", \"rating\", \"review\"], \"title\": \"BookReview\", \"type\": \"object\"}, \"GameReview\": {\"description\": \"Information about a game.\", \"properties\": {\"media_type\": {\"const\": \"game\", \"default\": \"game\", \"enum\": [\"game\"], \"title\": \"Media Type\", \"type\": \"string\"}, \"title\": {\"description\": \"Title of the game\", \"title\": \"Title\", \"type\": \"string\"}, \"platform\": {\"description\": \"Gaming platform (e.g., PC, PS5, Xbox)\", \"title\": \"Platform\", \"type\": \"string\"}, \"rating\": {\"description\": \"Rating from 1-5\", \"maximum\": 5, \"minimum\": 1, \"title\": \"Rating\", \"type\": \"integer\"}, \"review\": {\"description\": \"Brief review text\", \"title\": \"Review\", \"type\": \"string\"}}, \"required\": [\"title\", \"platform\", \"rating\", \"review\"], \"title\": \"GameReview\", \"type\": \"object\"}, \"MovieReview\": {\"description\": \"Information about a movie.\", \"properties\": {\"media_type\": {\"const\": \"movie\", \"default\": \"movie\", \"enum\": [\"movie\"], \"title\": \"Media Type\", \"type\": \"string\"}, \"title\": {\"description\": \"Title of the movie\", \"title\": \"Title\", \"type\": \"string\"}, \"rating\": {\"description\": \"Rating from 1-5\", \"maximum\": 5, \"minimum\": 1, \"title\": \"Rating\", \"type\": \"integer\"}, \"review\": {\"description\": \"Brief review text\", \"title\": \"Review\", \"type\": \"string\"}}, \"required\": [\"title\", \"rating\", \"review\"], \"title\": \"MovieReview\", \"type\": \"object\"}}, \"properties\": {\"review\": {\"discriminator\": {\"mapping\": {\"book\": \"#/$defs/BookReview\", \"game\": \"#/$defs/GameReview\", \"movie\": \"#/$defs/MovieReview\"}, \"propertyName\": \"media_type\"}, \"oneOf\": [{\"$ref\": \"#/$defs/MovieReview\"}, {\"$ref\": \"#/$defs/BookReview\"}, {\"$ref\": \"#/$defs/GameReview\"}], \"title\": \"Review\"}}, \"required\": [\"review\"]}\n",
      "```\n",
      "\n",
      "\n",
      "\n",
      "Movie-review prompt for: Red Dead Redemption 2 for PS4\n",
      "\n",
      "System: Provide a succinct and concise review for the following entertainment item: Red Dead Redemption 2 for PS4\n",
      "\n",
      "The output should be formatted as a JSON instance that conforms to the JSON schema below.\n",
      "\n",
      "As an example, for the schema {\"properties\": {\"foo\": {\"title\": \"Foo\", \"description\": \"a list of strings\", \"type\": \"array\", \"items\": {\"type\": \"string\"}}}, \"required\": [\"foo\"]}\n",
      "the object {\"foo\": [\"bar\", \"baz\"]} is a well-formatted instance of the schema. The object {\"properties\": {\"foo\": [\"bar\", \"baz\"]}} is not well-formatted.\n",
      "\n",
      "Here is the output schema:\n",
      "```\n",
      "{\"description\": \"Information about a movie.\", \"properties\": {\"media_type\": {\"const\": \"movie\", \"default\": \"movie\", \"enum\": [\"movie\"], \"title\": \"Media Type\", \"type\": \"string\"}, \"title\": {\"description\": \"Title of the movie\", \"title\": \"Title\", \"type\": \"string\"}, \"rating\": {\"description\": \"Rating from 1-5\", \"maximum\": 5, \"minimum\": 1, \"title\": \"Rating\", \"type\": \"integer\"}, \"review\": {\"description\": \"Brief review text\", \"title\": \"Review\", \"type\": \"string\"}}, \"required\": [\"title\", \"rating\", \"review\"]}\n",
      "```\n",
      "\n",
      "\n"
     ]
    }
   ],
   "source": [
    "items = [\n",
    "        \"The Matrix (1999 sci-fi film)\",\n",
    "        \"The Hunger Games by Suzanne Collins\",\n",
    "        \"Red Dead Redemption 2 for PS4\"\n",
    "    ]\n",
    "for item in items:\n",
    "    print(f\"\\nMulti-review prompt for: {item}\")\n",
    "    print(multi_review_prompt.invoke(item).to_string())\n",
    "    print(f\"\\nMovie-review prompt for: {item}\")\n",
    "    print(movie_prompt.invoke(item).to_string())"
   ]
  },
  {
   "cell_type": "code",
   "execution_count": 7,
   "metadata": {},
   "outputs": [
    {
     "name": "stdout",
     "output_type": "stream",
     "text": [
      "\n",
      "Processing review for: The Matrix (1999 sci-fi film)\n",
      "Media Type: movie\n",
      "Title: The Matrix\n",
      "Rating: 5/5\n",
      "Review: A groundbreaking sci-fi film that blends philosophy, action, and special effects to create a visually stunning and intellectually engaging experience.\n",
      "\n",
      "Processing review for: The Hunger Games by Suzanne Collins\n",
      "Media Type: movie\n",
      "Title: The Hunger Games\n",
      "Rating: 4/5\n",
      "Review: A gripping dystopian tale that captivates with its intense plot and strong protagonist, Katniss Everdeen. The film is a thrilling blend of action, drama, and social commentary.\n",
      "\n",
      "Processing review for: Red Dead Redemption 2 for PS4\n",
      "Parsing error: Failed to parse MovieReview from completion {\"media_type\": \"game\", \"title\": \"Red Dead Redemption 2\", \"rating\": 5, \"review\": \"Red Dead Redemption 2 is a masterpiece of storytelling and gameplay, offering an immersive open-world experience that seamlessly blends narrative depth with expansive freedom. The attention to detail in its vast, living world and the emotional journey of Arthur Morgan make it a must-play for any gamer.\"}. Got: 1 validation error for MovieReview\n",
      "media_type\n",
      "  Input should be 'movie' [type=literal_error, input_value='game', input_type=str]\n",
      "    For further information visit https://errors.pydantic.dev/2.9/v/literal_error\n"
     ]
    }
   ],
   "source": [
    "# Parse by the MovieReview schema\n",
    "# Test with different types of items\n",
    "for item in items:\n",
    "    print(f\"\\nProcessing review for: {item}\")\n",
    "    review = get_movie_review(item)\n",
    "    \n",
    "    if review:\n",
    "        print(f\"Media Type: {review.media_type}\")\n",
    "        print(f\"Title: {review.title}\")\n",
    "        \n",
    "        # Print type-specific fields\n",
    "        if isinstance(review, BookReview):\n",
    "            print(f\"Author: {review.author}\")\n",
    "        elif isinstance(review, GameReview):\n",
    "            print(f\"Platform: {review.platform}\")\n",
    "            \n",
    "        print(f\"Rating: {review.rating}/5\")\n",
    "        print(f\"Review: {review.review}\")\n",
    "\n"
   ]
  },
  {
   "cell_type": "code",
   "execution_count": 8,
   "metadata": {},
   "outputs": [
    {
     "name": "stdout",
     "output_type": "stream",
     "text": [
      "\n",
      "Processing review for: The Matrix (1999 sci-fi film)\n",
      "Media Type: movie\n",
      "Title: The Matrix\n",
      "Rating: 5/5\n",
      "Review: A groundbreaking sci-fi film that redefined action sequences and explored profound philosophical questions about reality. The Wachowskis' vision, combined with Keanu Reeves' charismatic performance as Neo, creates a thrilling and thought-provoking experience.\n",
      "\n",
      "Processing review for: The Hunger Games by Suzanne Collins\n",
      "Media Type: book\n",
      "Title: The Hunger Games\n",
      "Author: Suzanne Collins\n",
      "Rating: 4/5\n",
      "Review: A gripping dystopian novel that captivates with its intense narrative and complex characters. The story is a powerful critique of societal control and the dehumanization of youth, set in a world where children fight to the death as a form of entertainment.\n",
      "\n",
      "Processing review for: Red Dead Redemption 2 for PS4\n",
      "Media Type: game\n",
      "Title: Red Dead Redemption 2\n",
      "Platform: PS4\n",
      "Rating: 5/5\n",
      "Review: Red Dead Redemption 2 is a masterpiece of storytelling and gameplay, offering an immersive open-world experience that seamlessly blends narrative depth with breathtaking visuals. The attention to detail in both the environment and character development sets it apart as one of the best games on PS4.\n"
     ]
    }
   ],
   "source": [
    "# Parse by the union of the three review schemas\n",
    "for item in items:\n",
    "    print(f\"\\nProcessing review for: {item}\")\n",
    "    review = get_review(item)\n",
    "    \n",
    "    if review:\n",
    "        the_review = review.review\n",
    "        print(f\"Media Type: {the_review.media_type}\")\n",
    "        print(f\"Title: {the_review.title}\")\n",
    "        \n",
    "        # Print type-specific fields\n",
    "        if isinstance(the_review, BookReview):\n",
    "            print(f\"Author: {the_review.author}\")\n",
    "        elif isinstance(the_review, GameReview):\n",
    "            print(f\"Platform: {the_review.platform}\")\n",
    "            \n",
    "        print(f\"Rating: {the_review.rating}/5\")\n",
    "        print(f\"Review: {the_review.review}\")\n",
    "\n"
   ]
  }
 ],
 "metadata": {
  "kernelspec": {
   "display_name": "venv",
   "language": "python",
   "name": "python3"
  },
  "language_info": {
   "codemirror_mode": {
    "name": "ipython",
    "version": 3
   },
   "file_extension": ".py",
   "mimetype": "text/x-python",
   "name": "python",
   "nbconvert_exporter": "python",
   "pygments_lexer": "ipython3",
   "version": "3.12.7"
  }
 },
 "nbformat": 4,
 "nbformat_minor": 2
}
