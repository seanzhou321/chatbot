{
 "cells": [
  {
   "cell_type": "markdown",
   "id": "363d0453-7699-4334-b6f8-ea02c1ec1648",
   "metadata": {
    "jp-MarkdownHeadingCollapsed": true
   },
   "source": [
    "# Agent Coordination Patterns\n",
    "A multi-agent/component architecture for a customer assistant chatbot platform\n",
    "## Customer asssitant chatbot requirements\n",
    "1. Create conversation flows by configuration. Adding or modifying an existing conversation flow should not introduce code changes.\n",
    "2. Extensible agent coordination. The agent coordination system should be built with simplicity in mind. However, it should also be extensible for adding the complexties in the future.\n",
    "## Design elements\n",
    "1. Conversation topics. The chatbot should attempt to resolve one topic at a time. If the customer degress from the topic, the degression should be handled either as a new topic or a chitchat. The chitchat topics should be resolve quickly and return to the original topic.\n",
    "2. Topic stack. A topic stack tracks all the topics discussed in a conversation session. Each new topic will be appended to the topic stack. The topic stack should also indicate the current topic. The full context of a session should be represented implicitly and explicitly by the topic stack.\n",
    "3. Global state. The conversation context of a session should be accessible by all the agents. Maintain a global state is neccessary.\n",
    "4. Agent interaction rules. All agent's interaction rules should be explicitly expressed and managed in one place.\n",
    "## Design pattern overview\n",
    "| Design Pattern | Pros | Cons |\n",
    "| :- | :- | :- |\n",
    "|Chain of responsibility |Simple to implement |implicit agent interaction rules |\n",
    "|flux |extensible |multiple state stores |\n",
    "| | |distributed agent interaction rules |\n",
    "|mediator |Centralized interaction rules | |\n",
    "|Observer|Simple event-action relation |complex dependencies require chaining multiple (event,action) pair |\n",
    "|Registry|Excellent for agent registry and locator |Does not handle the agent interaction rules |\n",
    "|redux|handles state and action rules in one place | |\n",
    "## Conclusion\n",
    "1. Redux pattern to manage agent interactions and global state\n",
    "2. Registry pattern to manage agent lifecycle and registration. "
   ]
  },
  {
   "cell_type": "code",
   "execution_count": null,
   "id": "050bfbda-accc-4984-9964-330be926138d",
   "metadata": {},
   "outputs": [],
   "source": []
  }
 ],
 "metadata": {
  "kernelspec": {
   "display_name": "Python 3 (ipykernel)",
   "language": "python",
   "name": "python3"
  },
  "language_info": {
   "codemirror_mode": {
    "name": "ipython",
    "version": 3
   },
   "file_extension": ".py",
   "mimetype": "text/x-python",
   "name": "python",
   "nbconvert_exporter": "python",
   "pygments_lexer": "ipython3",
   "version": "3.12.7"
  }
 },
 "nbformat": 4,
 "nbformat_minor": 5
}
