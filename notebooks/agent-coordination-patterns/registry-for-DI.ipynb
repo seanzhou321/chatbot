{
 "cells": [
  {
   "cell_type": "markdown",
   "id": "c790e0e7-4c8e-4a9b-917f-933d85ee1c1e",
   "metadata": {},
   "source": [
    "# Registry Pattern for Dependency Injection\n",
    "\n",
    "### Service Locator:\n",
    "The registry can act as a service locator, where dependencies are registered and then injected into classes that need them. This is sometimes called the \"service locator\" pattern, which is a variation of the registry pattern.\n",
    "### Dependency Registration:\n",
    "When setting up a DI container, you can use a registry to register dependencies. This allows you to map interfaces or abstract classes to their concrete implementations.\n",
    "### Runtime Resolution:\n",
    "The registry can be used to resolve dependencies at runtime, allowing for more dynamic dependency injection scenarios."
   ]
  },
  {
   "cell_type": "code",
   "execution_count": 2,
   "id": "038f741a-750b-4d05-b3ce-401de7c99d1a",
   "metadata": {},
   "outputs": [
    {
     "name": "stdout",
     "output_type": "stream",
     "text": [
      "Connecting to database\n",
      "Saving user\n"
     ]
    }
   ],
   "source": [
    "# Service Locator\n",
    "class Registry:\n",
    "    def __init__(self):\n",
    "        self._services = {}\n",
    "\n",
    "    def register(self, name, service):\n",
    "        self._services[name] = service\n",
    "\n",
    "    def get(self, name):\n",
    "        return self._services.get(name)\n",
    "\n",
    "# Dependency\n",
    "class DatabaseService:\n",
    "    def connect(self):\n",
    "        print(\"Connecting to database\")\n",
    "\n",
    "# Client\n",
    "class UserRepository:\n",
    "    def __init__(self, db_service):\n",
    "        self.db_service = db_service\n",
    "\n",
    "    def save_user(self):\n",
    "        self.db_service.connect()\n",
    "        print(\"Saving user\")\n",
    "\n",
    "# Set up the registry\n",
    "registry = Registry()\n",
    "registry.register(\"db_service\", DatabaseService())\n",
    "\n",
    "# Inject the dependency\n",
    "db_service = registry.get(\"db_service\")\n",
    "user_repo = UserRepository(db_service)\n",
    "\n",
    "# Use the injected dependency\n",
    "user_repo.save_user()"
   ]
  },
  {
   "cell_type": "code",
   "execution_count": 3,
   "id": "687d126c-130d-414f-af3b-4a43ca769a04",
   "metadata": {},
   "outputs": [
    {
     "name": "stdout",
     "output_type": "stream",
     "text": [
      "Log: Application started\n",
      "Executing query: SELECT * FROM users\n"
     ]
    }
   ],
   "source": [
    "# Dependency Registration\n",
    "# Register services by interface name (in this example)\n",
    "# Singleton vs transient (prototye)\n",
    "# Factory functions\n",
    "\n",
    "class Registry:\n",
    "    def __init__(self):\n",
    "        self._services = {}\n",
    "\n",
    "    def register(self, interface, implementation):\n",
    "        self._services[interface] = implementation\n",
    "\n",
    "    def get(self, interface):\n",
    "        return self._services.get(interface)\n",
    "\n",
    "# Interfaces\n",
    "class ILogger:\n",
    "    def log(self, message): pass\n",
    "\n",
    "class IDatabase:\n",
    "    def query(self, sql): pass\n",
    "\n",
    "# Implementations\n",
    "class ConsoleLogger(ILogger):\n",
    "    def log(self, message):\n",
    "        print(f\"Log: {message}\")\n",
    "\n",
    "class SQLiteDatabase(IDatabase):\n",
    "    def query(self, sql):\n",
    "        print(f\"Executing query: {sql}\")\n",
    "\n",
    "# Registration\n",
    "registry = Registry()\n",
    "registry.register(ILogger, ConsoleLogger())\n",
    "registry.register(IDatabase, SQLiteDatabase())\n",
    "\n",
    "# Usage\n",
    "logger = registry.get(ILogger)\n",
    "db = registry.get(IDatabase)\n",
    "\n",
    "logger.log(\"Application started\")\n",
    "db.query(\"SELECT * FROM users\")"
   ]
  },
  {
   "cell_type": "code",
   "execution_count": 4,
   "id": "e49a0871-8e84-44d0-8d17-ca7ffea388f7",
   "metadata": {},
   "outputs": [
    {
     "name": "stdout",
     "output_type": "stream",
     "text": [
      "Log: Creating user: john_doe\n",
      "Executing query: INSERT INTO users (username) VALUES ('john_doe')\n",
      "Log: User created successfully\n"
     ]
    }
   ],
   "source": [
    "# Runtime Resolution\n",
    "# lazy loading of the serivce\n",
    "# WARNING: runtime resolution hides the dependency from public interface or method signatures, \n",
    "#          reducing the readability of the code and obscured initialization requirements.\n",
    "\n",
    "class UserService:\n",
    "    def __init__(self, registry):\n",
    "        self.registry = registry\n",
    "\n",
    "    def create_user(self, username):\n",
    "        logger = self.registry.get(ILogger)\n",
    "        db = self.registry.get(IDatabase)\n",
    "\n",
    "        logger.log(f\"Creating user: {username}\")\n",
    "        db.query(f\"INSERT INTO users (username) VALUES ('{username}')\")\n",
    "        logger.log(\"User created successfully\")\n",
    "\n",
    "# Using the previously defined Registry and registered dependencies\n",
    "registry = Registry()\n",
    "registry.register(ILogger, ConsoleLogger())\n",
    "registry.register(IDatabase, SQLiteDatabase())\n",
    "\n",
    "# Create UserService with registry\n",
    "user_service = UserService(registry)\n",
    "\n",
    "# Use the service, which will resolve dependencies at runtime\n",
    "user_service.create_user(\"john_doe\")"
   ]
  },
  {
   "cell_type": "code",
   "execution_count": 1,
   "id": "9b3608e5-64b9-4aac-b37c-783581ccb66c",
   "metadata": {},
   "outputs": [
    {
     "name": "stdout",
     "output_type": "stream",
     "text": [
      "[LOG] Processing data...\n",
      "[LOG] Processing data...\n",
      "Are services the same instance? False\n"
     ]
    }
   ],
   "source": [
    "# Registry factory function\n",
    "# This solves the hidden dependency problem in the example above.\n",
    "\n",
    "from typing import Callable, Any, Dict\n",
    "from abc import ABC, abstractmethod\n",
    "\n",
    "class DIContainer:\n",
    "    def __init__(self):\n",
    "        self._services: Dict[str, Callable[[], Any]] = {}\n",
    "\n",
    "    def register(self, name: str, factory: Callable[[], Any]):\n",
    "        self._services[name] = factory\n",
    "\n",
    "    def resolve(self, name: str) -> Any:\n",
    "        if name not in self._services:\n",
    "            raise KeyError(f\"Service '{name}' not registered.\")\n",
    "        return self._services[name]()\n",
    "\n",
    "class ILogger(ABC):\n",
    "    @abstractmethod\n",
    "    def log(self, message: str):\n",
    "        pass\n",
    "\n",
    "class ConsoleLogger(ILogger):\n",
    "    def log(self, message: str):\n",
    "        print(f\"[LOG] {message}\")\n",
    "\n",
    "class DataService:\n",
    "    def __init__(self, logger: ILogger):\n",
    "        self.logger = logger\n",
    "\n",
    "    def process_data(self):\n",
    "        self.logger.log(\"Processing data...\")\n",
    "\n",
    "# Usage example\n",
    "container = DIContainer()\n",
    "\n",
    "# Register services with factory functions\n",
    "container.register(\"logger\", lambda: ConsoleLogger())\n",
    "container.register(\"data_service\", lambda: DataService(container.resolve(\"logger\")))\n",
    "\n",
    "# Resolve and use services\n",
    "service1 = container.resolve(\"data_service\")\n",
    "service1.process_data()\n",
    "\n",
    "service2 = container.resolve(\"data_service\")\n",
    "service2.process_data()\n",
    "\n",
    "print(f\"Are services the same instance? {service1 is service2}\")"
   ]
  }
 ],
 "metadata": {
  "kernelspec": {
   "display_name": "Python 3 (ipykernel)",
   "language": "python",
   "name": "python3"
  },
  "language_info": {
   "codemirror_mode": {
    "name": "ipython",
    "version": 3
   },
   "file_extension": ".py",
   "mimetype": "text/x-python",
   "name": "python",
   "nbconvert_exporter": "python",
   "pygments_lexer": "ipython3",
   "version": "3.12.7"
  }
 },
 "nbformat": 4,
 "nbformat_minor": 5
}
