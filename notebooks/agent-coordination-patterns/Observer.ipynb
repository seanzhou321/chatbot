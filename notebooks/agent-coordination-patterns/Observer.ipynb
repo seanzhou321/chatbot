{
 "cells": [
  {
   "cell_type": "markdown",
   "id": "cb1be526-e096-46ed-ae79-34b886bff7e7",
   "metadata": {},
   "source": [
    "# Observer Pattern to manage events subscription and activation\n",
    "- Subject (Observable): Maintains a list of observers and notifies them of state changes.\n",
    "- Observer: An interface that defines the update method for observers.\n",
    "- Concrete Observers: Implement the Observer interface and react to state changes.\n",
    "## Flow\n",
    "Subject change -> Observers.update"
   ]
  },
  {
   "cell_type": "code",
   "execution_count": null,
   "id": "65edda15-2948-45c3-b792-dd6aa7e6ee4a",
   "metadata": {},
   "outputs": [],
   "source": [
    "# Subject (Observable)\n",
    "class Subject:\n",
    "    def __init__(self):\n",
    "        self._observers = []\n",
    "        self._state = None\n",
    "\n",
    "    def attach(self, observer):\n",
    "        self._observers.append(observer)\n",
    "\n",
    "    def detach(self, observer):\n",
    "        self._observers.remove(observer)\n",
    "\n",
    "    def notify(self):\n",
    "        for observer in self._observers:\n",
    "            observer.update(self._state)\n",
    "\n",
    "    def set_state(self, state):\n",
    "        self._state = state\n",
    "        self.notify()\n",
    "\n",
    "# Observer\n",
    "class Observer:\n",
    "    def update(self, state):\n",
    "        pass\n",
    "\n",
    "# Concrete Observer\n",
    "class ConcreteObserverA(Observer):\n",
    "    def update(self, state):\n",
    "        print(f\"ConcreteObserverA: Reacted to the state change: {state}\")\n",
    "\n",
    "# Concrete Observer\n",
    "class ConcreteObserverB(Observer):\n",
    "    def update(self, state):\n",
    "        print(f\"ConcreteObserverB: Responded to the state change: {state}\")\n",
    "\n",
    "# Usage\n",
    "subject = Subject()\n",
    "\n",
    "observer_a = ConcreteObserverA()\n",
    "observer_b = ConcreteObserverB()\n",
    "\n",
    "subject.attach(observer_a)\n",
    "subject.attach(observer_b)\n",
    "\n",
    "subject.set_state(\"New State\")\n",
    "\n",
    "# Output:\n",
    "# ConcreteObserverA: Reacted to the state change: New State\n",
    "# ConcreteObserverB: Responded to the state change: New State\n",
    "\n",
    "subject.detach(observer_a)\n",
    "\n",
    "subject.set_state(\"Another State\")\n",
    "\n",
    "# Output:\n",
    "# ConcreteObserverB: Responded to the state change: Another State"
   ]
  }
 ],
 "metadata": {
  "kernelspec": {
   "display_name": "Python 3 (ipykernel)",
   "language": "python",
   "name": "python3"
  },
  "language_info": {
   "codemirror_mode": {
    "name": "ipython",
    "version": 3
   },
   "file_extension": ".py",
   "mimetype": "text/x-python",
   "name": "python",
   "nbconvert_exporter": "python",
   "pygments_lexer": "ipython3",
   "version": "3.12.7"
  }
 },
 "nbformat": 4,
 "nbformat_minor": 5
}
