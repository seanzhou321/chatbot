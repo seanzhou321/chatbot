{
 "cells": [
  {
   "cell_type": "code",
   "execution_count": 1,
   "id": "abdf8f45-2e27-43cb-a9dd-0a2bcb2d9712",
   "metadata": {},
   "outputs": [],
   "source": [
    "# Testing ollama embedding using phi-3.5-mini https://ollama.com/blog/embedding-models\n",
    "# compares direct query and HyDE query\n",
    "\n",
    "# steps to install phi-3.5-mini on ollama\n",
    "# 1. install ollama\n",
    "# 2. run >ollama pull phi3.5\n",
    "\n",
    "# phi-3.5-mini embedding query results are wrong from both direct query and HyDE query!!!\n",
    "# the results is ['5', '0', '4', '1', '2', '3'] from direct query and ['5', '1', '4', '0', '2', '3'] from HyDE query\n",
    "# mxbai-embed-large performs for embedding.\n",
    "\n",
    "import ollama\n",
    "import chromadb\n",
    "\n",
    "# embedding_mode = \"phi3.5\"\n",
    "# embedding_mode = \"mxbai-embed-large\"\n",
    "embedding_mode = \"snowflake-arctic-embed\"\n",
    "\n",
    "documents = [\n",
    "  \"Llamas are members of the camelid family meaning they're pretty closely related to vicuñas and camels\",\n",
    "  \"Llamas were first domesticated and used as pack animals 4,000 to 5,000 years ago in the Peruvian highlands\",\n",
    "  \"Llamas can grow as much as 6 feet tall though the average llama between 5 feet 6 inches and 5 feet 9 inches tall\",\n",
    "  \"Llamas weigh between 280 and 450 pounds and can carry 25 to 30 percent of their body weight\",\n",
    "  \"Llamas are vegetarians and have very efficient digestive systems\",\n",
    "  \"Llamas live to be about 20 years old, though some only live for 15 years and others live to be 30 years old\",\n",
    "]\n",
    "\n",
    "client = chromadb.Client()\n",
    "collection = client.get_or_create_collection(name=\"docs\"+embedding_mode)\n",
    "\n",
    "# store each document in a vector embedding database\n",
    "for i, d in enumerate(documents):\n",
    "  response = ollama.embeddings(model=embedding_mode, prompt=d)\n",
    "  embedding = response[\"embedding\"]\n",
    "  collection.add(\n",
    "    ids=[str(i)],\n",
    "    embeddings=[embedding],\n",
    "    documents=[d]\n",
    "  )"
   ]
  },
  {
   "cell_type": "code",
   "execution_count": 2,
   "id": "9773493f-c685-4ee5-9625-be434d5fca3d",
   "metadata": {},
   "outputs": [
    {
     "data": {
      "text/plain": [
       "({'ids': ['0', '1', '2', '3', '4', '5'],\n",
       "  'embeddings': array([[ 1.38336241e-01, -6.37730837e-01,  3.30837298e-04, ...,\n",
       "          -2.99776822e-01,  3.60927694e-02, -7.95960069e-01],\n",
       "         [ 7.44450539e-02, -1.40076292e+00,  5.44786692e-01, ...,\n",
       "          -5.72953939e-01, -5.76398671e-01, -1.68894932e-01],\n",
       "         [ 1.29173249e-01, -9.00350213e-01,  5.86453438e-01, ...,\n",
       "          -1.37285376e+00,  1.15311090e-02, -3.43049407e-01],\n",
       "         [ 3.79785180e-01, -8.54738593e-01,  3.19993168e-01, ...,\n",
       "          -2.88958490e-01,  8.52232799e-02, -4.31492180e-02],\n",
       "         [ 1.67640358e-01, -1.53667367e+00, -2.61566699e-01, ...,\n",
       "          -1.06726420e+00,  4.18261617e-01, -1.23311877e-01],\n",
       "         [-3.58988106e-01, -1.83536172e+00,  3.73736739e-01, ...,\n",
       "          -9.80534434e-01, -1.74474776e-01,  1.26849085e-01]]),\n",
       "  'metadatas': [None, None, None, None, None, None],\n",
       "  'documents': [\"Llamas are members of the camelid family meaning they're pretty closely related to vicuñas and camels\",\n",
       "   'Llamas were first domesticated and used as pack animals 4,000 to 5,000 years ago in the Peruvian highlands',\n",
       "   'Llamas can grow as much as 6 feet tall though the average llama between 5 feet 6 inches and 5 feet 9 inches tall',\n",
       "   'Llamas weigh between 280 and 450 pounds and can carry 25 to 30 percent of their body weight',\n",
       "   'Llamas are vegetarians and have very efficient digestive systems',\n",
       "   'Llamas live to be about 20 years old, though some only live for 15 years and others live to be 30 years old'],\n",
       "  'uris': None,\n",
       "  'data': None,\n",
       "  'included': ['embeddings', 'metadatas', 'documents']},\n",
       " 6)"
      ]
     },
     "execution_count": 2,
     "metadata": {},
     "output_type": "execute_result"
    }
   ],
   "source": [
    "collection.peek(), collection.count()"
   ]
  },
  {
   "cell_type": "code",
   "execution_count": 3,
   "id": "b76a165b-8441-4762-a25a-2a682a52e163",
   "metadata": {},
   "outputs": [
    {
     "data": {
      "text/plain": [
       "{'ids': ['0'],\n",
       " 'embeddings': None,\n",
       " 'metadatas': [None],\n",
       " 'documents': [\"Llamas are members of the camelid family meaning they're pretty closely related to vicuñas and camels\"],\n",
       " 'uris': None,\n",
       " 'data': None,\n",
       " 'included': ['metadatas', 'documents']}"
      ]
     },
     "execution_count": 3,
     "metadata": {},
     "output_type": "execute_result"
    }
   ],
   "source": [
    "collection.get(ids=[\"0\"])"
   ]
  },
  {
   "cell_type": "code",
   "execution_count": 4,
   "id": "af741f17-f565-4529-8285-f46a019d1758",
   "metadata": {},
   "outputs": [],
   "source": [
    "# an example prompt\n",
    "prompt = \"What animals are llamas related to?\"\n",
    "\n",
    "# generate an embedding for the prompt and retrieve the most relevant doc\n",
    "response = ollama.embeddings(\n",
    "  prompt=prompt,\n",
    "  model=embedding_mode\n",
    ")\n",
    "results = collection.query(\n",
    "  query_embeddings=[response[\"embedding\"]],\n",
    "  n_results=1\n",
    ")\n",
    "data = results['documents'][0][0]"
   ]
  },
  {
   "cell_type": "code",
   "execution_count": 5,
   "id": "43e052be-3e8b-4840-af2c-3da0845ef2e2",
   "metadata": {},
   "outputs": [
    {
     "data": {
      "text/plain": [
       "{'ids': [['0']],\n",
       " 'distances': [[156.59153747558594]],\n",
       " 'metadatas': [[None]],\n",
       " 'embeddings': None,\n",
       " 'documents': [[\"Llamas are members of the camelid family meaning they're pretty closely related to vicuñas and camels\"]],\n",
       " 'uris': None,\n",
       " 'data': None,\n",
       " 'included': ['metadatas', 'documents', 'distances']}"
      ]
     },
     "execution_count": 5,
     "metadata": {},
     "output_type": "execute_result"
    }
   ],
   "source": [
    "results"
   ]
  },
  {
   "cell_type": "code",
   "execution_count": 6,
   "id": "13a46c9f-4a3d-4be9-ada8-b25254194281",
   "metadata": {},
   "outputs": [
    {
     "data": {
      "text/plain": [
       "{'ids': [['0', '4', '1', '3', '5', '2']],\n",
       " 'distances': [[156.59153747558594,\n",
       "   236.48777770996094,\n",
       "   240.87335205078125,\n",
       "   264.4229736328125,\n",
       "   278.2029724121094,\n",
       "   283.7362976074219]],\n",
       " 'metadatas': None,\n",
       " 'embeddings': None,\n",
       " 'documents': None,\n",
       " 'uris': None,\n",
       " 'data': None,\n",
       " 'included': ['distances']}"
      ]
     },
     "execution_count": 6,
     "metadata": {},
     "output_type": "execute_result"
    }
   ],
   "source": [
    "show_distances = collection.query(response[\"embedding\"], include=[\"distances\"], n_results=6)\n",
    "show_distances"
   ]
  },
  {
   "cell_type": "code",
   "execution_count": 7,
   "id": "99681f21-33fb-43f6-ab1d-ab0e68d94195",
   "metadata": {},
   "outputs": [
    {
     "data": {
      "text/plain": [
       "'Llamas are most closely related to camels and other members of the Camelidae family, such as alpacas, guanacos, and vicuñas. They share a common ancestor that lived around 35 million years ago in North America before migrating into South America where they evolved independently for millions more years.'"
      ]
     },
     "execution_count": 7,
     "metadata": {},
     "output_type": "execute_result"
    }
   ],
   "source": [
    "# the result should be the first document: Llamas are members of the camelid family meaning ...\n",
    "\n",
    "# use HyDE to create a tempate answer from the question.\n",
    "from langchain_core.prompts import ChatPromptTemplate\n",
    "from langchain_core.output_parsers import StrOutputParser\n",
    "from langchain_ollama import ChatOllama\n",
    "\n",
    "hyde_prompt = ChatPromptTemplate.from_messages([\n",
    "    (\"system\", \"You are a helpful assistant. Please respond to the user queries succinctly.\"),\n",
    "    (\"user\", \"Question: {question}\")\n",
    "])\n",
    "output_parser=StrOutputParser()\n",
    "llm = ChatOllama(model=\"phi3.5\", temperature=0)\n",
    "chain = hyde_prompt | llm | output_parser\n",
    "\n",
    "converted_q = chain.invoke({'question': prompt})\n",
    "converted_q"
   ]
  },
  {
   "cell_type": "code",
   "execution_count": 8,
   "id": "8787d9be-b8ad-4468-87cc-15cc8732aa12",
   "metadata": {},
   "outputs": [
    {
     "data": {
      "text/plain": [
       "{'ids': [['0']],\n",
       " 'distances': [[98.01392364501953]],\n",
       " 'metadatas': [[None]],\n",
       " 'embeddings': None,\n",
       " 'documents': [[\"Llamas are members of the camelid family meaning they're pretty closely related to vicuñas and camels\"]],\n",
       " 'uris': None,\n",
       " 'data': None,\n",
       " 'included': ['metadatas', 'documents', 'distances']}"
      ]
     },
     "execution_count": 8,
     "metadata": {},
     "output_type": "execute_result"
    }
   ],
   "source": [
    "# query documents by the converted_q\n",
    "converted_response = ollama.embeddings( prompt=converted_q, model=embedding_mode)\n",
    "converted_results = collection.query(query_embeddings=[converted_response[\"embedding\"]], n_results=1)\n",
    "converted_results"
   ]
  },
  {
   "cell_type": "code",
   "execution_count": 9,
   "id": "64866a71-acd8-416c-a628-da12ba8c9e01",
   "metadata": {},
   "outputs": [
    {
     "data": {
      "text/plain": [
       "{'ids': [['0', '1', '4', '5', '2', '3']],\n",
       " 'distances': [[98.01392364501953,\n",
       "   186.42498779296875,\n",
       "   226.71197509765625,\n",
       "   245.62966918945312,\n",
       "   302.3124694824219,\n",
       "   304.7037048339844]],\n",
       " 'metadatas': None,\n",
       " 'embeddings': None,\n",
       " 'documents': None,\n",
       " 'uris': None,\n",
       " 'data': None,\n",
       " 'included': ['distances']}"
      ]
     },
     "execution_count": 9,
     "metadata": {},
     "output_type": "execute_result"
    }
   ],
   "source": [
    "show_converted_distances = collection.query(converted_response[\"embedding\"], include=[\"distances\"], n_results=6)\n",
    "show_converted_distances"
   ]
  },
  {
   "cell_type": "code",
   "execution_count": 10,
   "id": "1c1481a3-8cb0-479b-bf8a-b17d45b69f1d",
   "metadata": {},
   "outputs": [
    {
     "name": "stdout",
     "output_type": "stream",
     "text": [
      "Llamas are indeed quite closely related to two other species within the Camelidae family, namely vicuñas and true camels (which include dromedary camels and Bactrian camels). Here's a more detailed response:\n",
      "\n",
      "- Vicunas: Llamas share evolutionary roots with vicuñas. Both llamas and vicuñas have been domesticated for their wool, which is known to be warm yet lightweight—ideal in high altitude regions where these animals are native such as the Andes mountains of South America.\n",
      "  \n",
      "- Camels: Llamas share a closer genetic link with camels compared to other wild or semi-domesticated relatives like guanacos and alpaca, which belong to different subfamilies within the broader superfamily Artiodactyla (even-toed ungulates). True Camelus species—dromedaries found in North Africa/Middle East regions and Bactrian camels native from Central Asia – have diverged significantly over time. Nevertheless, llamas still share certain morphological features like their long necks, humps on the shoulders for carrying heavy loads (though not as prominent), split hooves adapted to tough terrains such as deserts or rocky mountains where they were domesticated thousands of years ago by indigenous peoplaus.\n",
      "  \n",
      "Thus in summary, llamas are related both genetically and evolutionarily with vicuñas—all three being part of the camelid family adapted to high altitude mountain environments – as well as true species like dromedary or Bactrian Camels (though these latter belong more specifically within separate subfamilies). This relationship demonstrates a rich history of domestication and adaptation for specific ecological niches.\n"
     ]
    }
   ],
   "source": [
    "# generate a response combining the prompt and data we retrieved in step 2\n",
    "output = ollama.generate(\n",
    "  model=\"phi3.5\",\n",
    "  prompt=f\"Using this data: {data}. Respond to this prompt: {prompt}\"\n",
    ")\n",
    "\n",
    "print(output['response'])"
   ]
  },
  {
   "cell_type": "code",
   "execution_count": 11,
   "id": "0a06c2fe-a064-496b-b044-950eb7666b85",
   "metadata": {},
   "outputs": [
    {
     "name": "stdout",
     "output_type": "stream",
     "text": [
      "Llamas, as members of the camelid family, share close relations with other camelids such as vicuñas and various species of true camels (e.g., dromedary and Bactrian camels). These animals possess similar adaptations for life in arid environments, like long eyelashes, dense fur, and humps or a broad chest to store fat reserves which are essential survival traits shared among them.\n"
     ]
    }
   ],
   "source": [
    "# generate a response combining the prompt and data retrieved without extra information\n",
    "output = ollama.generate(\n",
    "  model=\"phi3.5\",\n",
    "  prompt=f\"Please generate a summary based on below data succinctly without additional information. Here is the data: {data}. Respond to this prompt: {prompt}\"\n",
    ")\n",
    "\n",
    "print(output['response'])"
   ]
  },
  {
   "cell_type": "code",
   "execution_count": null,
   "id": "c38f87a6-2cdb-4186-8218-a427f0f5cb5a",
   "metadata": {},
   "outputs": [],
   "source": []
  }
 ],
 "metadata": {
  "kernelspec": {
   "display_name": "Python 3 (ipykernel)",
   "language": "python",
   "name": "python3"
  },
  "language_info": {
   "codemirror_mode": {
    "name": "ipython",
    "version": 3
   },
   "file_extension": ".py",
   "mimetype": "text/x-python",
   "name": "python",
   "nbconvert_exporter": "python",
   "pygments_lexer": "ipython3",
   "version": "3.12.7"
  }
 },
 "nbformat": 4,
 "nbformat_minor": 5
}
