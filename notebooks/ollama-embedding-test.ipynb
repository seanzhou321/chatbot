{
 "cells": [
  {
   "cell_type": "code",
   "execution_count": 1,
   "id": "abdf8f45-2e27-43cb-a9dd-0a2bcb2d9712",
   "metadata": {},
   "outputs": [],
   "source": [
    "# Testing ollama embedding using phi-3.5-mini https://ollama.com/blog/embedding-models\n",
    "# compares direct query and HyDE query\n",
    "\n",
    "# steps to install phi-3.5-mini on ollama\n",
    "# 1. install ollama\n",
    "# 2. run >ollama pull phi3.5\n",
    "\n",
    "# phi-3.5-mini embedding query results are wrong from both direct query and HyDE query!!!\n",
    "# the results is ['5', '0', '4', '1', '2', '3'] from direct query and ['5', '1', '4', '0', '2', '3'] from HyDE query\n",
    "# mxbai-embed-large performs for embedding.\n",
    "\n",
    "import ollama\n",
    "import chromadb\n",
    "\n",
    "# embedding_mode = \"phi3.5\"\n",
    "embedding_mode = \"mxbai-embed-large\"\n",
    "\n",
    "documents = [\n",
    "  \"Llamas are members of the camelid family meaning they're pretty closely related to vicuñas and camels\",\n",
    "  \"Llamas were first domesticated and used as pack animals 4,000 to 5,000 years ago in the Peruvian highlands\",\n",
    "  \"Llamas can grow as much as 6 feet tall though the average llama between 5 feet 6 inches and 5 feet 9 inches tall\",\n",
    "  \"Llamas weigh between 280 and 450 pounds and can carry 25 to 30 percent of their body weight\",\n",
    "  \"Llamas are vegetarians and have very efficient digestive systems\",\n",
    "  \"Llamas live to be about 20 years old, though some only live for 15 years and others live to be 30 years old\",\n",
    "]\n",
    "\n",
    "client = chromadb.Client()\n",
    "collection = client.get_or_create_collection(name=\"docs\"+embedding_mode)\n",
    "\n",
    "# store each document in a vector embedding database\n",
    "for i, d in enumerate(documents):\n",
    "  response = ollama.embeddings(model=embedding_mode, prompt=d)\n",
    "  embedding = response[\"embedding\"]\n",
    "  collection.add(\n",
    "    ids=[str(i)],\n",
    "    embeddings=[embedding],\n",
    "    documents=[d]\n",
    "  )"
   ]
  },
  {
   "cell_type": "code",
   "execution_count": 2,
   "id": "9773493f-c685-4ee5-9625-be434d5fca3d",
   "metadata": {},
   "outputs": [
    {
     "data": {
      "text/plain": [
       "({'ids': ['0', '1', '2', '3', '4', '5'],\n",
       "  'embeddings': array([[ 5.16468108e-01,  1.47336042e+00,  6.79911852e-01, ...,\n",
       "           5.08700848e-01,  5.70794940e-01,  5.46187699e-01],\n",
       "         [ 9.86270607e-01,  1.18459761e+00,  8.43585491e-01, ...,\n",
       "          -4.44508046e-01,  9.26456213e-01,  7.99377680e-01],\n",
       "         [ 7.97073603e-01,  8.96159768e-01,  7.72400081e-01, ...,\n",
       "          -6.88998342e-01,  9.92778391e-02,  8.37223232e-02],\n",
       "         [ 8.87079477e-01,  8.14557731e-01,  3.18510115e-01, ...,\n",
       "          -5.95363855e-01,  3.43608677e-01, -3.05887222e-01],\n",
       "         [ 8.60674456e-02,  8.81301284e-01, -8.46746936e-02, ...,\n",
       "          -2.14637652e-01,  1.51675999e-01, -4.76360321e-04],\n",
       "         [ 7.36328959e-01,  9.84707236e-01,  7.13119879e-02, ...,\n",
       "          -4.18436825e-01,  3.43871683e-01, -1.19044989e-01]]),\n",
       "  'metadatas': [None, None, None, None, None, None],\n",
       "  'documents': [\"Llamas are members of the camelid family meaning they're pretty closely related to vicuñas and camels\",\n",
       "   'Llamas were first domesticated and used as pack animals 4,000 to 5,000 years ago in the Peruvian highlands',\n",
       "   'Llamas can grow as much as 6 feet tall though the average llama between 5 feet 6 inches and 5 feet 9 inches tall',\n",
       "   'Llamas weigh between 280 and 450 pounds and can carry 25 to 30 percent of their body weight',\n",
       "   'Llamas are vegetarians and have very efficient digestive systems',\n",
       "   'Llamas live to be about 20 years old, though some only live for 15 years and others live to be 30 years old'],\n",
       "  'uris': None,\n",
       "  'data': None,\n",
       "  'included': ['embeddings', 'metadatas', 'documents']},\n",
       " 6)"
      ]
     },
     "execution_count": 2,
     "metadata": {},
     "output_type": "execute_result"
    }
   ],
   "source": [
    "collection.peek(), collection.count()"
   ]
  },
  {
   "cell_type": "code",
   "execution_count": 3,
   "id": "b76a165b-8441-4762-a25a-2a682a52e163",
   "metadata": {},
   "outputs": [
    {
     "data": {
      "text/plain": [
       "{'ids': ['0'],\n",
       " 'embeddings': None,\n",
       " 'metadatas': [None],\n",
       " 'documents': [\"Llamas are members of the camelid family meaning they're pretty closely related to vicuñas and camels\"],\n",
       " 'uris': None,\n",
       " 'data': None,\n",
       " 'included': ['metadatas', 'documents']}"
      ]
     },
     "execution_count": 3,
     "metadata": {},
     "output_type": "execute_result"
    }
   ],
   "source": [
    "collection.get(ids=[\"0\"])"
   ]
  },
  {
   "cell_type": "code",
   "execution_count": 4,
   "id": "af741f17-f565-4529-8285-f46a019d1758",
   "metadata": {},
   "outputs": [],
   "source": [
    "# an example prompt\n",
    "prompt = \"What animals are llamas related to?\"\n",
    "\n",
    "# generate an embedding for the prompt and retrieve the most relevant doc\n",
    "response = ollama.embeddings(\n",
    "  prompt=prompt,\n",
    "  model=embedding_mode\n",
    ")\n",
    "results = collection.query(\n",
    "  query_embeddings=[response[\"embedding\"]],\n",
    "  n_results=1\n",
    ")\n",
    "data = results['documents'][0][0]"
   ]
  },
  {
   "cell_type": "code",
   "execution_count": 5,
   "id": "43e052be-3e8b-4840-af2c-3da0845ef2e2",
   "metadata": {},
   "outputs": [
    {
     "data": {
      "text/plain": [
       "{'ids': [['0']],\n",
       " 'distances': [[79.3682632446289]],\n",
       " 'metadatas': [[None]],\n",
       " 'embeddings': None,\n",
       " 'documents': [[\"Llamas are members of the camelid family meaning they're pretty closely related to vicuñas and camels\"]],\n",
       " 'uris': None,\n",
       " 'data': None,\n",
       " 'included': ['metadatas', 'documents', 'distances']}"
      ]
     },
     "execution_count": 5,
     "metadata": {},
     "output_type": "execute_result"
    }
   ],
   "source": [
    "results"
   ]
  },
  {
   "cell_type": "code",
   "execution_count": 6,
   "id": "13a46c9f-4a3d-4be9-ada8-b25254194281",
   "metadata": {},
   "outputs": [
    {
     "data": {
      "text/plain": [
       "{'ids': [['0', '1', '4', '3', '5', '2']],\n",
       " 'distances': [[79.3682632446289,\n",
       "   184.64312744140625,\n",
       "   198.3860626220703,\n",
       "   220.77955627441406,\n",
       "   221.32534790039062,\n",
       "   224.84298706054688]],\n",
       " 'metadatas': None,\n",
       " 'embeddings': None,\n",
       " 'documents': None,\n",
       " 'uris': None,\n",
       " 'data': None,\n",
       " 'included': ['distances']}"
      ]
     },
     "execution_count": 6,
     "metadata": {},
     "output_type": "execute_result"
    }
   ],
   "source": [
    "show_distances = collection.query(response[\"embedding\"], include=[\"distances\"], n_results=6)\n",
    "show_distances"
   ]
  },
  {
   "cell_type": "code",
   "execution_count": 7,
   "id": "99681f21-33fb-43f6-ab1d-ab0e68d94195",
   "metadata": {},
   "outputs": [
    {
     "data": {
      "text/plain": [
       "'Llamas are most closely related to camels and other members of the Camelidae family, such as alpacas, guanacos, and vicuñas. They share a common ancestor that lived around 35 million years ago in North America before migrating into South America where they evolved independently for millions more years.'"
      ]
     },
     "execution_count": 7,
     "metadata": {},
     "output_type": "execute_result"
    }
   ],
   "source": [
    "# the result should be the first document: Llamas are members of the camelid family meaning ...\n",
    "\n",
    "# use HyDE to create a tempate answer from the question.\n",
    "from langchain_core.prompts import ChatPromptTemplate\n",
    "from langchain_core.output_parsers import StrOutputParser\n",
    "from langchain_ollama import ChatOllama\n",
    "\n",
    "hyde_prompt = ChatPromptTemplate.from_messages([\n",
    "    (\"system\", \"You are a helpful assistant. Please respond to the user queries succinctly.\"),\n",
    "    (\"user\", \"Question: {question}\")\n",
    "])\n",
    "output_parser=StrOutputParser()\n",
    "llm = ChatOllama(model=\"phi3.5\", temperature=0)\n",
    "chain = hyde_prompt | llm | output_parser\n",
    "\n",
    "converted_q = chain.invoke({'question': prompt})\n",
    "converted_q"
   ]
  },
  {
   "cell_type": "code",
   "execution_count": 8,
   "id": "8787d9be-b8ad-4468-87cc-15cc8732aa12",
   "metadata": {},
   "outputs": [
    {
     "data": {
      "text/plain": [
       "{'ids': [['0']],\n",
       " 'distances': [[78.7081298828125]],\n",
       " 'metadatas': [[None]],\n",
       " 'embeddings': None,\n",
       " 'documents': [[\"Llamas are members of the camelid family meaning they're pretty closely related to vicuñas and camels\"]],\n",
       " 'uris': None,\n",
       " 'data': None,\n",
       " 'included': ['metadatas', 'documents', 'distances']}"
      ]
     },
     "execution_count": 8,
     "metadata": {},
     "output_type": "execute_result"
    }
   ],
   "source": [
    "# query documents by the converted_q\n",
    "converted_response = ollama.embeddings( prompt=converted_q, model=embedding_mode)\n",
    "converted_results = collection.query(query_embeddings=[converted_response[\"embedding\"]], n_results=1)\n",
    "converted_results"
   ]
  },
  {
   "cell_type": "code",
   "execution_count": 9,
   "id": "64866a71-acd8-416c-a628-da12ba8c9e01",
   "metadata": {},
   "outputs": [
    {
     "data": {
      "text/plain": [
       "{'ids': [['0', '1', '5', '4', '2', '3']],\n",
       " 'distances': [[78.7081298828125,\n",
       "   154.53427124023438,\n",
       "   161.29637145996094,\n",
       "   195.13973999023438,\n",
       "   201.42514038085938,\n",
       "   206.93064880371094]],\n",
       " 'metadatas': None,\n",
       " 'embeddings': None,\n",
       " 'documents': None,\n",
       " 'uris': None,\n",
       " 'data': None,\n",
       " 'included': ['distances']}"
      ]
     },
     "execution_count": 9,
     "metadata": {},
     "output_type": "execute_result"
    }
   ],
   "source": [
    "show_converted_distances = collection.query(converted_response[\"embedding\"], include=[\"distances\"], n_results=6)\n",
    "show_converted_distances"
   ]
  },
  {
   "cell_type": "code",
   "execution_count": 10,
   "id": "1c1481a3-8cb0-479b-bf8a-b17d45b69f1d",
   "metadata": {},
   "outputs": [
    {
     "name": "stdout",
     "output_type": "stream",
     "text": [
      "Llamas are primarily related to two other species within the Camelidae family, namely vicuñas and various types of true camels (such as dromedary camels and Bactrian camels). Here's how they connect:\n",
      "\n",
      "1. Llama vs Vicuna: Both llamas and vicunas are native South American mammals belonging to the same Camelidae family, which also includes their distant relatives like alpacas. While llama is larger with a domesticated history used by humans for transportation as well as wool production, smaller in size than camels but bigger compared to other livestthy animals such as cattle or sheep, vicuna are wild mountain goats known primarily for the extremely fine and valuable fiber they produce – their coat.\n",
      "  \n",
      "2. Llama vs Camel: True camels (like dromedary or Bactrian ones) share an evolutionarily closer ancestry to llamas than any other mammals since both llama species originated from South American landmass, which used to be connected with the Middle East where true camels have their roots. Although physically and behaviorally different (camels are known for enduring long periods of drought in desert environments while llamas thrive at high altitudes), they share similar traits like padded feet designed for walking on sandy terrains, humps or fat reserves used during times when food is scarce.\n",
      "   \n",
      "So to sum up, the animals that are closely related to llama include vicuñas and camels (specifically dromedary and Bactrian types), forming a single family – Camelidae – with shared traits such as their unique adaptations for harsh environments where others might not survive.\n"
     ]
    }
   ],
   "source": [
    "# generate a response combining the prompt and data we retrieved in step 2\n",
    "output = ollama.generate(\n",
    "  model=\"phi3.5\",\n",
    "  prompt=f\"Using this data: {data}. Respond to this prompt: {prompt}\"\n",
    ")\n",
    "\n",
    "print(output['response'])"
   ]
  }
 ],
 "metadata": {
  "kernelspec": {
   "display_name": "Python 3 (ipykernel)",
   "language": "python",
   "name": "python3"
  },
  "language_info": {
   "codemirror_mode": {
    "name": "ipython",
    "version": 3
   },
   "file_extension": ".py",
   "mimetype": "text/x-python",
   "name": "python",
   "nbconvert_exporter": "python",
   "pygments_lexer": "ipython3",
   "version": "3.12.7"
  }
 },
 "nbformat": 4,
 "nbformat_minor": 5
}
