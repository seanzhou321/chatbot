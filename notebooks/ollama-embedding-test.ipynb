{
 "cells": [
  {
   "cell_type": "code",
   "execution_count": 1,
   "id": "abdf8f45-2e27-43cb-a9dd-0a2bcb2d9712",
   "metadata": {},
   "outputs": [],
   "source": [
    "# Testing ollama embedding using phi-3.5-mini https://ollama.com/blog/embedding-models\n",
    "# steps to install phi-3.5-mini on ollama\n",
    "# 1. install ollama\n",
    "# 2. run >ollama pull phi3.5\n",
    "\n",
    "import ollama\n",
    "import chromadb\n",
    "\n",
    "documents = [\n",
    "  \"Llamas are members of the camelid family meaning they're pretty closely related to vicuñas and camels\",\n",
    "  \"Llamas were first domesticated and used as pack animals 4,000 to 5,000 years ago in the Peruvian highlands\",\n",
    "  \"Llamas can grow as much as 6 feet tall though the average llama between 5 feet 6 inches and 5 feet 9 inches tall\",\n",
    "  \"Llamas weigh between 280 and 450 pounds and can carry 25 to 30 percent of their body weight\",\n",
    "  \"Llamas are vegetarians and have very efficient digestive systems\",\n",
    "  \"Llamas live to be about 20 years old, though some only live for 15 years and others live to be 30 years old\",\n",
    "]\n",
    "\n",
    "client = chromadb.Client()\n",
    "collection = client.create_collection(name=\"docs\")\n",
    "\n",
    "# store each document in a vector embedding database\n",
    "for i, d in enumerate(documents):\n",
    "  response = ollama.embeddings(model=\"phi3.5\", prompt=d)\n",
    "  embedding = response[\"embedding\"]\n",
    "  collection.add(\n",
    "    ids=[str(i)],\n",
    "    embeddings=[embedding],\n",
    "    documents=[d]\n",
    "  )"
   ]
  },
  {
   "cell_type": "code",
   "execution_count": 3,
   "id": "af741f17-f565-4529-8285-f46a019d1758",
   "metadata": {},
   "outputs": [],
   "source": [
    "# an example prompt\n",
    "prompt = \"What animals are llamas related to?\"\n",
    "\n",
    "# generate an embedding for the prompt and retrieve the most relevant doc\n",
    "response = ollama.embeddings(\n",
    "  prompt=prompt,\n",
    "  model=\"phi3.5\"\n",
    ")\n",
    "results = collection.query(\n",
    "  query_embeddings=[response[\"embedding\"]],\n",
    "  n_results=1\n",
    ")\n",
    "data = results['documents'][0][0]"
   ]
  },
  {
   "cell_type": "code",
   "execution_count": 4,
   "id": "1c1481a3-8cb0-479b-bf8a-b17d45b69f1d",
   "metadata": {},
   "outputs": [
    {
     "name": "stdout",
     "output_type": "stream",
     "text": [
      "Llamas belong to the family Camelidae within the order Artiodactyla (even-toed ungulates). Within this extensive camelid lineage, they share close relationships with other members such as alpacas, guanacos, vicuñas, and Vachetta'dicta or Bactrian camels.\n",
      "\n",
      "Here is a brief explanation of their relations:\n",
      "\n",
      "1. Alpacas - Llamas are indeed closely related to alpacas; they share similar habitat preferences (mountainous regions) but differ in size with llamas being larger and having longer necks, which makes them ideal for carrying loads over rough terrains like mountains or deserts where their close relatives also live.\n",
      "   \n",
      "2. Guanaco - Llamas are genetically linked to guanacos; both species originate from South America (particularly the Andes mountain range) and share similar ecological niches there, including grazing on grasslands high in altitude where conditions can be harsh for many other animals.\n",
      "   \n",
      "3. Vicuñas - Llamas are closely related to vicuñas which have smaller stature but possess fine fiber with a higher value than llama wool and share similar ancestry within the South American camelid family lineage they belong to together with llamas, alpacas etc.\n",
      "   \n",
      "4. Camels - Llamas are also genetically connected to Bactrian (two-humped) camels as both species fall under the wide ruminant group of mammals that have complex stomach structures for digesting plant matter effectively, though they've adapted distinctively according their respective environments and habitats.\n",
      "   \n",
      "5. Viciña - They are smaller animals with softer hair than llamas or alpacas; genetically linked to camels as well but having different adaptations suited for colder climates compared to the llama’s adaptation in high altitude regions of South America where they roam freely today.\n",
      "   \n",
      "Thus, while there are unique aspects and differences between these species related through their shared ancestry within Camelidae family, it'd be fair to say that llamas share close genetic relationships with other camels as well along with several types of alpacas in South America where they originate.\n"
     ]
    }
   ],
   "source": [
    "# generate a response combining the prompt and data we retrieved in step 2\n",
    "output = ollama.generate(\n",
    "  model=\"phi3.5\",\n",
    "  prompt=f\"Using this data: {data}. Respond to this prompt: {prompt}\"\n",
    ")\n",
    "\n",
    "print(output['response'])"
   ]
  },
  {
   "cell_type": "code",
   "execution_count": 5,
   "id": "d1b0e34d-55ca-4995-9ad2-596a15796e12",
   "metadata": {},
   "outputs": [
    {
     "data": {
      "text/plain": [
       "'Llamas live to be about 20 years old, though some only live for 15 years and others live to be 30 years old'"
      ]
     },
     "execution_count": 5,
     "metadata": {},
     "output_type": "execute_result"
    }
   ],
   "source": [
    "data"
   ]
  },
  {
   "cell_type": "code",
   "execution_count": 6,
   "id": "bdfd6dd0-23ee-43d2-a0eb-444eeea63f11",
   "metadata": {},
   "outputs": [
    {
     "data": {
      "text/plain": [
       "{'ids': [['5']],\n",
       " 'distances': [[2034.11474609375]],\n",
       " 'metadatas': [[None]],\n",
       " 'embeddings': None,\n",
       " 'documents': [['Llamas live to be about 20 years old, though some only live for 15 years and others live to be 30 years old']],\n",
       " 'uris': None,\n",
       " 'data': None,\n",
       " 'included': ['metadatas', 'documents', 'distances']}"
      ]
     },
     "execution_count": 6,
     "metadata": {},
     "output_type": "execute_result"
    }
   ],
   "source": [
    "results"
   ]
  },
  {
   "cell_type": "code",
   "execution_count": null,
   "id": "51ba6d2e-2d08-41cc-b337-6eff9343423f",
   "metadata": {},
   "outputs": [],
   "source": []
  }
 ],
 "metadata": {
  "kernelspec": {
   "display_name": "Python 3 (ipykernel)",
   "language": "python",
   "name": "python3"
  },
  "language_info": {
   "codemirror_mode": {
    "name": "ipython",
    "version": 3
   },
   "file_extension": ".py",
   "mimetype": "text/x-python",
   "name": "python",
   "nbconvert_exporter": "python",
   "pygments_lexer": "ipython3",
   "version": "3.12.7"
  }
 },
 "nbformat": 4,
 "nbformat_minor": 5
}
