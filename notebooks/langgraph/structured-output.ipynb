{
 "cells": [
  {
   "cell_type": "markdown",
   "metadata": {},
   "source": [
    "# Pydantic Parser for Structured Output\n",
    "\n",
    "https://python.langchain.com/docs/how_to/structured_output/#prompting-and-parsing-model-outputs-directly"
   ]
  },
  {
   "cell_type": "code",
   "execution_count": 1,
   "metadata": {},
   "outputs": [],
   "source": [
    "from typing import List, Literal, Union\n",
    "\n",
    "from langchain_core.output_parsers import PydanticOutputParser\n",
    "# from langchain.output_parsers import PydanticOutputParser\n",
    "from pydantic import BaseModel, Field\n",
    "from langchain_core.exceptions import OutputParserException\n",
    "from pydantic import BaseModel, Field\n",
    "from langchain_core.prompts import PromptTemplate\n",
    "\n",
    "from langchain_ollama import ChatOllama\n",
    "from langchain_core.prompts import ChatPromptTemplate\n",
    "\n",
    "llm = ChatOllama(model=\"llama3.2\", temperature=0)\n"
   ]
  },
  {
   "cell_type": "code",
   "execution_count": 9,
   "metadata": {},
   "outputs": [
    {
     "name": "stdout",
     "output_type": "stream",
     "text": [
      "The output should be formatted as a JSON instance that conforms to the JSON schema below.\n",
      "\n",
      "As an example, for the schema {\"properties\": {\"foo\": {\"title\": \"Foo\", \"description\": \"a list of strings\", \"type\": \"array\", \"items\": {\"type\": \"string\"}}}, \"required\": [\"foo\"]}\n",
      "the object {\"foo\": [\"bar\", \"baz\"]} is a well-formatted instance of the schema. The object {\"properties\": {\"foo\": [\"bar\", \"baz\"]}} is not well-formatted.\n",
      "\n",
      "Here is the output schema:\n",
      "```\n",
      "{\"$defs\": {\"Person\": {\"description\": \"Information about a person.\", \"properties\": {\"name\": {\"description\": \"The name of the person\", \"title\": \"Name\", \"type\": \"string\"}, \"height_in_meters\": {\"description\": \"The height of the person expressed in meters.\", \"title\": \"Height In Meters\", \"type\": \"number\"}}, \"required\": [\"name\", \"height_in_meters\"], \"title\": \"Person\", \"type\": \"object\"}}, \"description\": \"Identifying information about all people in a text.\", \"properties\": {\"people\": {\"items\": {\"$ref\": \"#/$defs/Person\"}, \"title\": \"People\", \"type\": \"array\"}}, \"required\": [\"people\"]}\n",
      "```\n"
     ]
    }
   ],
   "source": [
    "# nested model example\n",
    "\n",
    "class Person(BaseModel):\n",
    "    \"\"\"Information about a person.\"\"\"\n",
    "\n",
    "    name: str = Field(..., description=\"The name of the person\")\n",
    "    height_in_meters: float = Field(\n",
    "        ..., description=\"The height of the person expressed in meters.\"\n",
    "    )\n",
    "\n",
    "\n",
    "class People(BaseModel):\n",
    "    \"\"\"Identifying information about all people in a text.\"\"\"\n",
    "\n",
    "    people: List[Person]\n",
    "\n",
    "\n",
    "# Set up a parser\n",
    "people_parser = PydanticOutputParser(pydantic_object=People)\n",
    "\n",
    "# Prompt\n",
    "people_prompt = ChatPromptTemplate.from_messages(\n",
    "    [\n",
    "        (\n",
    "            \"system\",\n",
    "            \"Answer the user query. Wrap the output in `json` tags\\n{format_instructions}\",\n",
    "        ),\n",
    "        (\"human\", \"{query}\"),\n",
    "    ]\n",
    ").partial(format_instructions=people_parser.get_format_instructions())\n",
    "# inspect the output formatting instruction\n",
    "\n",
    "print(people_parser.get_format_instructions())"
   ]
  },
  {
   "cell_type": "code",
   "execution_count": 10,
   "metadata": {},
   "outputs": [
    {
     "name": "stdout",
     "output_type": "stream",
     "text": [
      "System: Answer the user query. Wrap the output in `json` tags\n",
      "The output should be formatted as a JSON instance that conforms to the JSON schema below.\n",
      "\n",
      "As an example, for the schema {\"properties\": {\"foo\": {\"title\": \"Foo\", \"description\": \"a list of strings\", \"type\": \"array\", \"items\": {\"type\": \"string\"}}}, \"required\": [\"foo\"]}\n",
      "the object {\"foo\": [\"bar\", \"baz\"]} is a well-formatted instance of the schema. The object {\"properties\": {\"foo\": [\"bar\", \"baz\"]}} is not well-formatted.\n",
      "\n",
      "Here is the output schema:\n",
      "```\n",
      "{\"$defs\": {\"Person\": {\"description\": \"Information about a person.\", \"properties\": {\"name\": {\"description\": \"The name of the person\", \"title\": \"Name\", \"type\": \"string\"}, \"height_in_meters\": {\"description\": \"The height of the person expressed in meters.\", \"title\": \"Height In Meters\", \"type\": \"number\"}}, \"required\": [\"name\", \"height_in_meters\"], \"title\": \"Person\", \"type\": \"object\"}}, \"description\": \"Identifying information about all people in a text.\", \"properties\": {\"people\": {\"items\": {\"$ref\": \"#/$defs/Person\"}, \"title\": \"People\", \"type\": \"array\"}}, \"required\": [\"people\"]}\n",
      "```\n",
      "Human: Anna is 23 years old and she is 6 feet tall\n"
     ]
    }
   ],
   "source": [
    "# inspect the prompt submitting to LLM\n",
    "\n",
    "people_query = \"Anna is 23 years old and she is 6 feet tall\"\n",
    "\n",
    "print(people_prompt.invoke(query).to_string())"
   ]
  },
  {
   "cell_type": "code",
   "execution_count": 11,
   "metadata": {},
   "outputs": [
    {
     "data": {
      "text/plain": [
       "People(people=[Person(name='Anna', height_in_meters=1.73)])"
      ]
     },
     "execution_count": 11,
     "metadata": {},
     "output_type": "execute_result"
    }
   ],
   "source": [
    "people_chain = people_prompt | llm | people_parser\n",
    "\n",
    "people_chain.invoke({\"query\": people_query})"
   ]
  },
  {
   "cell_type": "markdown",
   "metadata": {},
   "source": [
    "# Union of Multiple Output Classes"
   ]
  },
  {
   "cell_type": "code",
   "execution_count": 2,
   "metadata": {},
   "outputs": [],
   "source": [
    "# First, let's define our base models for different types of responses\n",
    "class MovieReview(BaseModel):\n",
    "    media_type: Literal[\"movie\"] = \"movie\"\n",
    "    title: str = Field(description=\"Title of the movie\")\n",
    "    rating: int = Field(description=\"Rating from 1-5\", ge=1, le=5)\n",
    "    review: str = Field(description=\"Brief review text\")\n",
    "\n",
    "class BookReview(BaseModel):\n",
    "    media_type: Literal[\"book\"] = \"book\"\n",
    "    title: str = Field(description=\"Title of the book\")\n",
    "    author: str = Field(description=\"Author of the book\")\n",
    "    rating: int = Field(description=\"Rating from 1-5\", ge=1, le=5)\n",
    "    review: str = Field(description=\"Brief review text\")\n",
    "\n",
    "class GameReview(BaseModel):\n",
    "    media_type: Literal[\"game\"] = \"game\"\n",
    "    title: str = Field(description=\"Title of the game\")\n",
    "    platform: str = Field(description=\"Gaming platform (e.g., PC, PS5, Xbox)\")\n",
    "    rating: int = Field(description=\"Rating from 1-5\", ge=1, le=5)\n",
    "    review: str = Field(description=\"Brief review text\")\n",
    "\n",
    "# Create a shared parent class for all review types\n",
    "class ReviewUnion(BaseModel):\n",
    "    review: MovieReview | BookReview | GameReview = Field(..., discriminator='media_type')\n"
   ]
  },
  {
   "cell_type": "code",
   "execution_count": 5,
   "metadata": {},
   "outputs": [],
   "source": [
    "\n",
    "# Create a prompt template\n",
    "multi_review_template = \"\"\"\n",
    "System: Provide a succinct and concise review for the following entertainment item: {item}\n",
    "\n",
    "{format_instructions}\n",
    "\n",
    "\"\"\"\n"
   ]
  },
  {
   "cell_type": "code",
   "execution_count": 6,
   "metadata": {},
   "outputs": [
    {
     "name": "stdout",
     "output_type": "stream",
     "text": [
      "The output should be formatted as a JSON instance that conforms to the JSON schema below.\n",
      "\n",
      "As an example, for the schema {\"properties\": {\"foo\": {\"title\": \"Foo\", \"description\": \"a list of strings\", \"type\": \"array\", \"items\": {\"type\": \"string\"}}}, \"required\": [\"foo\"]}\n",
      "the object {\"foo\": [\"bar\", \"baz\"]} is a well-formatted instance of the schema. The object {\"properties\": {\"foo\": [\"bar\", \"baz\"]}} is not well-formatted.\n",
      "\n",
      "Here is the output schema:\n",
      "```\n",
      "{\"properties\": {\"media_type\": {\"const\": \"movie\", \"default\": \"movie\", \"enum\": [\"movie\"], \"title\": \"Media Type\", \"type\": \"string\"}, \"title\": {\"description\": \"Title of the movie\", \"title\": \"Title\", \"type\": \"string\"}, \"rating\": {\"description\": \"Rating from 1-5\", \"maximum\": 5, \"minimum\": 1, \"title\": \"Rating\", \"type\": \"integer\"}, \"review\": {\"description\": \"Brief review text\", \"title\": \"Review\", \"type\": \"string\"}}, \"required\": [\"title\", \"rating\", \"review\"]}\n",
      "```\n"
     ]
    }
   ],
   "source": [
    "movie_parser = PydanticOutputParser(pydantic_object=MovieReview)\n",
    "\n",
    "movie_prompt = PromptTemplate(\n",
    "    template=multi_review_template,\n",
    "    input_variables=[\"item\"],\n",
    "    partial_variables={\"format_instructions\": movie_parser.get_format_instructions()}\n",
    ")\n",
    "\n",
    "movie_chain = movie_prompt | llm | movie_parser\n",
    "def get_movie_review(item_description: str):\n",
    "    \n",
    "    try:\n",
    "        # Run the chain\n",
    "        result = movie_chain.invoke({\"item\": item_description})\n",
    "        return result\n",
    "    except OutputParserException as e:\n",
    "        print(f\"Parsing error: {e}\")\n",
    "        return None\n",
    "\n",
    "print(movie_parser.get_format_instructions())\n"
   ]
  },
  {
   "cell_type": "code",
   "execution_count": 7,
   "metadata": {},
   "outputs": [
    {
     "name": "stdout",
     "output_type": "stream",
     "text": [
      "The output should be formatted as a JSON instance that conforms to the JSON schema below.\n",
      "\n",
      "As an example, for the schema {\"properties\": {\"foo\": {\"title\": \"Foo\", \"description\": \"a list of strings\", \"type\": \"array\", \"items\": {\"type\": \"string\"}}}, \"required\": [\"foo\"]}\n",
      "the object {\"foo\": [\"bar\", \"baz\"]} is a well-formatted instance of the schema. The object {\"properties\": {\"foo\": [\"bar\", \"baz\"]}} is not well-formatted.\n",
      "\n",
      "Here is the output schema:\n",
      "```\n",
      "{\"$defs\": {\"BookReview\": {\"properties\": {\"media_type\": {\"const\": \"book\", \"default\": \"book\", \"enum\": [\"book\"], \"title\": \"Media Type\", \"type\": \"string\"}, \"title\": {\"description\": \"Title of the book\", \"title\": \"Title\", \"type\": \"string\"}, \"author\": {\"description\": \"Author of the book\", \"title\": \"Author\", \"type\": \"string\"}, \"rating\": {\"description\": \"Rating from 1-5\", \"maximum\": 5, \"minimum\": 1, \"title\": \"Rating\", \"type\": \"integer\"}, \"review\": {\"description\": \"Brief review text\", \"title\": \"Review\", \"type\": \"string\"}}, \"required\": [\"title\", \"author\", \"rating\", \"review\"], \"title\": \"BookReview\", \"type\": \"object\"}, \"GameReview\": {\"properties\": {\"media_type\": {\"const\": \"game\", \"default\": \"game\", \"enum\": [\"game\"], \"title\": \"Media Type\", \"type\": \"string\"}, \"title\": {\"description\": \"Title of the game\", \"title\": \"Title\", \"type\": \"string\"}, \"platform\": {\"description\": \"Gaming platform (e.g., PC, PS5, Xbox)\", \"title\": \"Platform\", \"type\": \"string\"}, \"rating\": {\"description\": \"Rating from 1-5\", \"maximum\": 5, \"minimum\": 1, \"title\": \"Rating\", \"type\": \"integer\"}, \"review\": {\"description\": \"Brief review text\", \"title\": \"Review\", \"type\": \"string\"}}, \"required\": [\"title\", \"platform\", \"rating\", \"review\"], \"title\": \"GameReview\", \"type\": \"object\"}, \"MovieReview\": {\"properties\": {\"media_type\": {\"const\": \"movie\", \"default\": \"movie\", \"enum\": [\"movie\"], \"title\": \"Media Type\", \"type\": \"string\"}, \"title\": {\"description\": \"Title of the movie\", \"title\": \"Title\", \"type\": \"string\"}, \"rating\": {\"description\": \"Rating from 1-5\", \"maximum\": 5, \"minimum\": 1, \"title\": \"Rating\", \"type\": \"integer\"}, \"review\": {\"description\": \"Brief review text\", \"title\": \"Review\", \"type\": \"string\"}}, \"required\": [\"title\", \"rating\", \"review\"], \"title\": \"MovieReview\", \"type\": \"object\"}}, \"properties\": {\"review\": {\"discriminator\": {\"mapping\": {\"book\": \"#/$defs/BookReview\", \"game\": \"#/$defs/GameReview\", \"movie\": \"#/$defs/MovieReview\"}, \"propertyName\": \"media_type\"}, \"oneOf\": [{\"$ref\": \"#/$defs/MovieReview\"}, {\"$ref\": \"#/$defs/BookReview\"}, {\"$ref\": \"#/$defs/GameReview\"}], \"title\": \"Review\"}}, \"required\": [\"review\"]}\n",
      "```\n"
     ]
    }
   ],
   "source": [
    "# Create the parser with the parent class\n",
    "multiple_review_parser = PydanticOutputParser(pydantic_object=ReviewUnion)\n",
    "\n",
    "multi_review_prompt = PromptTemplate(\n",
    "    template=multi_review_template,\n",
    "    input_variables=[\"item\"],\n",
    "    partial_variables={\"format_instructions\": multiple_review_parser.get_format_instructions()}\n",
    ")\n",
    "\n",
    "multi_review_chain = multi_review_prompt | llm | multiple_review_parser\n",
    "\n",
    "# Function to process reviews\n",
    "def get_review(item_description: str):\n",
    "    \n",
    "    try:\n",
    "        # Run the chain\n",
    "        result = multi_review_chain.invoke({\"item\": item_description})\n",
    "        return result\n",
    "    except OutputParserException as e:\n",
    "        print(f\"Parsing error: {e}\")\n",
    "        return None\n",
    "\n",
    "print(multiple_review_parser.get_format_instructions())\n"
   ]
  },
  {
   "cell_type": "code",
   "execution_count": 8,
   "metadata": {},
   "outputs": [
    {
     "name": "stdout",
     "output_type": "stream",
     "text": [
      "\n",
      "Multi-review prompt for: The Matrix (1999 sci-fi film)\n",
      "\n",
      "System: Provide a succinct and concise review for the following entertainment item: The Matrix (1999 sci-fi film)\n",
      "\n",
      "The output should be formatted as a JSON instance that conforms to the JSON schema below.\n",
      "\n",
      "As an example, for the schema {\"properties\": {\"foo\": {\"title\": \"Foo\", \"description\": \"a list of strings\", \"type\": \"array\", \"items\": {\"type\": \"string\"}}}, \"required\": [\"foo\"]}\n",
      "the object {\"foo\": [\"bar\", \"baz\"]} is a well-formatted instance of the schema. The object {\"properties\": {\"foo\": [\"bar\", \"baz\"]}} is not well-formatted.\n",
      "\n",
      "Here is the output schema:\n",
      "```\n",
      "{\"$defs\": {\"BookReview\": {\"properties\": {\"media_type\": {\"const\": \"book\", \"default\": \"book\", \"enum\": [\"book\"], \"title\": \"Media Type\", \"type\": \"string\"}, \"title\": {\"description\": \"Title of the book\", \"title\": \"Title\", \"type\": \"string\"}, \"author\": {\"description\": \"Author of the book\", \"title\": \"Author\", \"type\": \"string\"}, \"rating\": {\"description\": \"Rating from 1-5\", \"maximum\": 5, \"minimum\": 1, \"title\": \"Rating\", \"type\": \"integer\"}, \"review\": {\"description\": \"Brief review text\", \"title\": \"Review\", \"type\": \"string\"}}, \"required\": [\"title\", \"author\", \"rating\", \"review\"], \"title\": \"BookReview\", \"type\": \"object\"}, \"GameReview\": {\"properties\": {\"media_type\": {\"const\": \"game\", \"default\": \"game\", \"enum\": [\"game\"], \"title\": \"Media Type\", \"type\": \"string\"}, \"title\": {\"description\": \"Title of the game\", \"title\": \"Title\", \"type\": \"string\"}, \"platform\": {\"description\": \"Gaming platform (e.g., PC, PS5, Xbox)\", \"title\": \"Platform\", \"type\": \"string\"}, \"rating\": {\"description\": \"Rating from 1-5\", \"maximum\": 5, \"minimum\": 1, \"title\": \"Rating\", \"type\": \"integer\"}, \"review\": {\"description\": \"Brief review text\", \"title\": \"Review\", \"type\": \"string\"}}, \"required\": [\"title\", \"platform\", \"rating\", \"review\"], \"title\": \"GameReview\", \"type\": \"object\"}, \"MovieReview\": {\"properties\": {\"media_type\": {\"const\": \"movie\", \"default\": \"movie\", \"enum\": [\"movie\"], \"title\": \"Media Type\", \"type\": \"string\"}, \"title\": {\"description\": \"Title of the movie\", \"title\": \"Title\", \"type\": \"string\"}, \"rating\": {\"description\": \"Rating from 1-5\", \"maximum\": 5, \"minimum\": 1, \"title\": \"Rating\", \"type\": \"integer\"}, \"review\": {\"description\": \"Brief review text\", \"title\": \"Review\", \"type\": \"string\"}}, \"required\": [\"title\", \"rating\", \"review\"], \"title\": \"MovieReview\", \"type\": \"object\"}}, \"properties\": {\"review\": {\"discriminator\": {\"mapping\": {\"book\": \"#/$defs/BookReview\", \"game\": \"#/$defs/GameReview\", \"movie\": \"#/$defs/MovieReview\"}, \"propertyName\": \"media_type\"}, \"oneOf\": [{\"$ref\": \"#/$defs/MovieReview\"}, {\"$ref\": \"#/$defs/BookReview\"}, {\"$ref\": \"#/$defs/GameReview\"}], \"title\": \"Review\"}}, \"required\": [\"review\"]}\n",
      "```\n",
      "\n",
      "\n",
      "\n",
      "Movie-review prompt for: The Matrix (1999 sci-fi film)\n",
      "\n",
      "System: Provide a succinct and concise review for the following entertainment item: The Matrix (1999 sci-fi film)\n",
      "\n",
      "The output should be formatted as a JSON instance that conforms to the JSON schema below.\n",
      "\n",
      "As an example, for the schema {\"properties\": {\"foo\": {\"title\": \"Foo\", \"description\": \"a list of strings\", \"type\": \"array\", \"items\": {\"type\": \"string\"}}}, \"required\": [\"foo\"]}\n",
      "the object {\"foo\": [\"bar\", \"baz\"]} is a well-formatted instance of the schema. The object {\"properties\": {\"foo\": [\"bar\", \"baz\"]}} is not well-formatted.\n",
      "\n",
      "Here is the output schema:\n",
      "```\n",
      "{\"properties\": {\"media_type\": {\"const\": \"movie\", \"default\": \"movie\", \"enum\": [\"movie\"], \"title\": \"Media Type\", \"type\": \"string\"}, \"title\": {\"description\": \"Title of the movie\", \"title\": \"Title\", \"type\": \"string\"}, \"rating\": {\"description\": \"Rating from 1-5\", \"maximum\": 5, \"minimum\": 1, \"title\": \"Rating\", \"type\": \"integer\"}, \"review\": {\"description\": \"Brief review text\", \"title\": \"Review\", \"type\": \"string\"}}, \"required\": [\"title\", \"rating\", \"review\"]}\n",
      "```\n",
      "\n",
      "\n",
      "\n",
      "Multi-review prompt for: The Hunger Games by Suzanne Collins\n",
      "\n",
      "System: Provide a succinct and concise review for the following entertainment item: The Hunger Games by Suzanne Collins\n",
      "\n",
      "The output should be formatted as a JSON instance that conforms to the JSON schema below.\n",
      "\n",
      "As an example, for the schema {\"properties\": {\"foo\": {\"title\": \"Foo\", \"description\": \"a list of strings\", \"type\": \"array\", \"items\": {\"type\": \"string\"}}}, \"required\": [\"foo\"]}\n",
      "the object {\"foo\": [\"bar\", \"baz\"]} is a well-formatted instance of the schema. The object {\"properties\": {\"foo\": [\"bar\", \"baz\"]}} is not well-formatted.\n",
      "\n",
      "Here is the output schema:\n",
      "```\n",
      "{\"$defs\": {\"BookReview\": {\"properties\": {\"media_type\": {\"const\": \"book\", \"default\": \"book\", \"enum\": [\"book\"], \"title\": \"Media Type\", \"type\": \"string\"}, \"title\": {\"description\": \"Title of the book\", \"title\": \"Title\", \"type\": \"string\"}, \"author\": {\"description\": \"Author of the book\", \"title\": \"Author\", \"type\": \"string\"}, \"rating\": {\"description\": \"Rating from 1-5\", \"maximum\": 5, \"minimum\": 1, \"title\": \"Rating\", \"type\": \"integer\"}, \"review\": {\"description\": \"Brief review text\", \"title\": \"Review\", \"type\": \"string\"}}, \"required\": [\"title\", \"author\", \"rating\", \"review\"], \"title\": \"BookReview\", \"type\": \"object\"}, \"GameReview\": {\"properties\": {\"media_type\": {\"const\": \"game\", \"default\": \"game\", \"enum\": [\"game\"], \"title\": \"Media Type\", \"type\": \"string\"}, \"title\": {\"description\": \"Title of the game\", \"title\": \"Title\", \"type\": \"string\"}, \"platform\": {\"description\": \"Gaming platform (e.g., PC, PS5, Xbox)\", \"title\": \"Platform\", \"type\": \"string\"}, \"rating\": {\"description\": \"Rating from 1-5\", \"maximum\": 5, \"minimum\": 1, \"title\": \"Rating\", \"type\": \"integer\"}, \"review\": {\"description\": \"Brief review text\", \"title\": \"Review\", \"type\": \"string\"}}, \"required\": [\"title\", \"platform\", \"rating\", \"review\"], \"title\": \"GameReview\", \"type\": \"object\"}, \"MovieReview\": {\"properties\": {\"media_type\": {\"const\": \"movie\", \"default\": \"movie\", \"enum\": [\"movie\"], \"title\": \"Media Type\", \"type\": \"string\"}, \"title\": {\"description\": \"Title of the movie\", \"title\": \"Title\", \"type\": \"string\"}, \"rating\": {\"description\": \"Rating from 1-5\", \"maximum\": 5, \"minimum\": 1, \"title\": \"Rating\", \"type\": \"integer\"}, \"review\": {\"description\": \"Brief review text\", \"title\": \"Review\", \"type\": \"string\"}}, \"required\": [\"title\", \"rating\", \"review\"], \"title\": \"MovieReview\", \"type\": \"object\"}}, \"properties\": {\"review\": {\"discriminator\": {\"mapping\": {\"book\": \"#/$defs/BookReview\", \"game\": \"#/$defs/GameReview\", \"movie\": \"#/$defs/MovieReview\"}, \"propertyName\": \"media_type\"}, \"oneOf\": [{\"$ref\": \"#/$defs/MovieReview\"}, {\"$ref\": \"#/$defs/BookReview\"}, {\"$ref\": \"#/$defs/GameReview\"}], \"title\": \"Review\"}}, \"required\": [\"review\"]}\n",
      "```\n",
      "\n",
      "\n",
      "\n",
      "Movie-review prompt for: The Hunger Games by Suzanne Collins\n",
      "\n",
      "System: Provide a succinct and concise review for the following entertainment item: The Hunger Games by Suzanne Collins\n",
      "\n",
      "The output should be formatted as a JSON instance that conforms to the JSON schema below.\n",
      "\n",
      "As an example, for the schema {\"properties\": {\"foo\": {\"title\": \"Foo\", \"description\": \"a list of strings\", \"type\": \"array\", \"items\": {\"type\": \"string\"}}}, \"required\": [\"foo\"]}\n",
      "the object {\"foo\": [\"bar\", \"baz\"]} is a well-formatted instance of the schema. The object {\"properties\": {\"foo\": [\"bar\", \"baz\"]}} is not well-formatted.\n",
      "\n",
      "Here is the output schema:\n",
      "```\n",
      "{\"properties\": {\"media_type\": {\"const\": \"movie\", \"default\": \"movie\", \"enum\": [\"movie\"], \"title\": \"Media Type\", \"type\": \"string\"}, \"title\": {\"description\": \"Title of the movie\", \"title\": \"Title\", \"type\": \"string\"}, \"rating\": {\"description\": \"Rating from 1-5\", \"maximum\": 5, \"minimum\": 1, \"title\": \"Rating\", \"type\": \"integer\"}, \"review\": {\"description\": \"Brief review text\", \"title\": \"Review\", \"type\": \"string\"}}, \"required\": [\"title\", \"rating\", \"review\"]}\n",
      "```\n",
      "\n",
      "\n",
      "\n",
      "Multi-review prompt for: Red Dead Redemption 2 for PS4\n",
      "\n",
      "System: Provide a succinct and concise review for the following entertainment item: Red Dead Redemption 2 for PS4\n",
      "\n",
      "The output should be formatted as a JSON instance that conforms to the JSON schema below.\n",
      "\n",
      "As an example, for the schema {\"properties\": {\"foo\": {\"title\": \"Foo\", \"description\": \"a list of strings\", \"type\": \"array\", \"items\": {\"type\": \"string\"}}}, \"required\": [\"foo\"]}\n",
      "the object {\"foo\": [\"bar\", \"baz\"]} is a well-formatted instance of the schema. The object {\"properties\": {\"foo\": [\"bar\", \"baz\"]}} is not well-formatted.\n",
      "\n",
      "Here is the output schema:\n",
      "```\n",
      "{\"$defs\": {\"BookReview\": {\"properties\": {\"media_type\": {\"const\": \"book\", \"default\": \"book\", \"enum\": [\"book\"], \"title\": \"Media Type\", \"type\": \"string\"}, \"title\": {\"description\": \"Title of the book\", \"title\": \"Title\", \"type\": \"string\"}, \"author\": {\"description\": \"Author of the book\", \"title\": \"Author\", \"type\": \"string\"}, \"rating\": {\"description\": \"Rating from 1-5\", \"maximum\": 5, \"minimum\": 1, \"title\": \"Rating\", \"type\": \"integer\"}, \"review\": {\"description\": \"Brief review text\", \"title\": \"Review\", \"type\": \"string\"}}, \"required\": [\"title\", \"author\", \"rating\", \"review\"], \"title\": \"BookReview\", \"type\": \"object\"}, \"GameReview\": {\"properties\": {\"media_type\": {\"const\": \"game\", \"default\": \"game\", \"enum\": [\"game\"], \"title\": \"Media Type\", \"type\": \"string\"}, \"title\": {\"description\": \"Title of the game\", \"title\": \"Title\", \"type\": \"string\"}, \"platform\": {\"description\": \"Gaming platform (e.g., PC, PS5, Xbox)\", \"title\": \"Platform\", \"type\": \"string\"}, \"rating\": {\"description\": \"Rating from 1-5\", \"maximum\": 5, \"minimum\": 1, \"title\": \"Rating\", \"type\": \"integer\"}, \"review\": {\"description\": \"Brief review text\", \"title\": \"Review\", \"type\": \"string\"}}, \"required\": [\"title\", \"platform\", \"rating\", \"review\"], \"title\": \"GameReview\", \"type\": \"object\"}, \"MovieReview\": {\"properties\": {\"media_type\": {\"const\": \"movie\", \"default\": \"movie\", \"enum\": [\"movie\"], \"title\": \"Media Type\", \"type\": \"string\"}, \"title\": {\"description\": \"Title of the movie\", \"title\": \"Title\", \"type\": \"string\"}, \"rating\": {\"description\": \"Rating from 1-5\", \"maximum\": 5, \"minimum\": 1, \"title\": \"Rating\", \"type\": \"integer\"}, \"review\": {\"description\": \"Brief review text\", \"title\": \"Review\", \"type\": \"string\"}}, \"required\": [\"title\", \"rating\", \"review\"], \"title\": \"MovieReview\", \"type\": \"object\"}}, \"properties\": {\"review\": {\"discriminator\": {\"mapping\": {\"book\": \"#/$defs/BookReview\", \"game\": \"#/$defs/GameReview\", \"movie\": \"#/$defs/MovieReview\"}, \"propertyName\": \"media_type\"}, \"oneOf\": [{\"$ref\": \"#/$defs/MovieReview\"}, {\"$ref\": \"#/$defs/BookReview\"}, {\"$ref\": \"#/$defs/GameReview\"}], \"title\": \"Review\"}}, \"required\": [\"review\"]}\n",
      "```\n",
      "\n",
      "\n",
      "\n",
      "Movie-review prompt for: Red Dead Redemption 2 for PS4\n",
      "\n",
      "System: Provide a succinct and concise review for the following entertainment item: Red Dead Redemption 2 for PS4\n",
      "\n",
      "The output should be formatted as a JSON instance that conforms to the JSON schema below.\n",
      "\n",
      "As an example, for the schema {\"properties\": {\"foo\": {\"title\": \"Foo\", \"description\": \"a list of strings\", \"type\": \"array\", \"items\": {\"type\": \"string\"}}}, \"required\": [\"foo\"]}\n",
      "the object {\"foo\": [\"bar\", \"baz\"]} is a well-formatted instance of the schema. The object {\"properties\": {\"foo\": [\"bar\", \"baz\"]}} is not well-formatted.\n",
      "\n",
      "Here is the output schema:\n",
      "```\n",
      "{\"properties\": {\"media_type\": {\"const\": \"movie\", \"default\": \"movie\", \"enum\": [\"movie\"], \"title\": \"Media Type\", \"type\": \"string\"}, \"title\": {\"description\": \"Title of the movie\", \"title\": \"Title\", \"type\": \"string\"}, \"rating\": {\"description\": \"Rating from 1-5\", \"maximum\": 5, \"minimum\": 1, \"title\": \"Rating\", \"type\": \"integer\"}, \"review\": {\"description\": \"Brief review text\", \"title\": \"Review\", \"type\": \"string\"}}, \"required\": [\"title\", \"rating\", \"review\"]}\n",
      "```\n",
      "\n",
      "\n"
     ]
    }
   ],
   "source": [
    "items = [\n",
    "        \"The Matrix (1999 sci-fi film)\",\n",
    "        \"The Hunger Games by Suzanne Collins\",\n",
    "        \"Red Dead Redemption 2 for PS4\"\n",
    "    ]\n",
    "for item in items:\n",
    "    print(f\"\\nMulti-review prompt for: {item}\")\n",
    "    print(multi_review_prompt.invoke(item).to_string())\n",
    "    print(f\"\\nMovie-review prompt for: {item}\")\n",
    "    print(movie_prompt.invoke(item).to_string())"
   ]
  },
  {
   "cell_type": "code",
   "execution_count": 9,
   "metadata": {},
   "outputs": [
    {
     "name": "stdout",
     "output_type": "stream",
     "text": [
      "\n",
      "Processing review for: The Matrix (1999 sci-fi film)\n",
      "Parsing error: Failed to parse MovieReview from completion {\"properties\": {\"media_type\": {\"const\": \"movie\", \"default\": \"movie\", \"enum\": [\"movie\"], \"title\": \"Media Type\", \"type\": \"string\"}, \"title\": {\"description\": \"The Matrix (1999 sci-fi film)\", \"title\": \"The Matrix\", \"type\": \"string\"}, \"rating\": {\"description\": \"A thought-provoking and visually stunning film that explores the nature of reality.\", \"maximum\": 5, \"minimum\": 1, \"title\": \"Rating\", \"type\": \"integer\"}, \"review\": {\"description\": \"A classic sci-fi film with innovative special effects and a gripping storyline.\", \"title\": \"Review\", \"type\": \"string\"}}}. Got: 3 validation errors for MovieReview\n",
      "title\n",
      "  Field required [type=missing, input_value={'properties': {'media_ty...ew', 'type': 'string'}}}, input_type=dict]\n",
      "    For further information visit https://errors.pydantic.dev/2.9/v/missing\n",
      "rating\n",
      "  Field required [type=missing, input_value={'properties': {'media_ty...ew', 'type': 'string'}}}, input_type=dict]\n",
      "    For further information visit https://errors.pydantic.dev/2.9/v/missing\n",
      "review\n",
      "  Field required [type=missing, input_value={'properties': {'media_ty...ew', 'type': 'string'}}}, input_type=dict]\n",
      "    For further information visit https://errors.pydantic.dev/2.9/v/missing\n",
      "\n",
      "Processing review for: The Hunger Games by Suzanne Collins\n",
      "Parsing error: Failed to parse MovieReview from completion {\"properties\": {\"media_type\": {\"const\": \"book\", \"default\": \"book\", \"enum\": [\"book\"], \"title\": \"Media Type\", \"type\": \"string\"}, \"title\": {\"description\": \"The Hunger Games by Suzanne Collins\", \"title\": \"The Hunger Games\", \"type\": \"string\"}, \"rating\": {\"description\": \"A thrilling dystopian novel\", \"maximum\": 5, \"minimum\": 1, \"title\": \"Rating\", \"type\": \"integer\"}, \"review\": {\"description\": \"A gripping story of survival and rebellion\", \"title\": \"Review\", \"type\": \"string\"}}, \"required\": [\"title\", \"rating\", \"review\"]}. Got: 3 validation errors for MovieReview\n",
      "title\n",
      "  Field required [type=missing, input_value={'properties': {'media_ty...e', 'rating', 'review']}, input_type=dict]\n",
      "    For further information visit https://errors.pydantic.dev/2.9/v/missing\n",
      "rating\n",
      "  Field required [type=missing, input_value={'properties': {'media_ty...e', 'rating', 'review']}, input_type=dict]\n",
      "    For further information visit https://errors.pydantic.dev/2.9/v/missing\n",
      "review\n",
      "  Field required [type=missing, input_value={'properties': {'media_ty...e', 'rating', 'review']}, input_type=dict]\n",
      "    For further information visit https://errors.pydantic.dev/2.9/v/missing\n",
      "\n",
      "Processing review for: Red Dead Redemption 2 for PS4\n",
      "Parsing error: Failed to parse MovieReview from completion {\"properties\": {\"title\": {\"const\": \"Red Dead Redemption 2\", \"default\": \"Red Dead Redemption 2\", \"title\": \"Title\", \"type\": \"string\"}, \"description\": {\"title\": \"A western open-world masterpiece\", \"type\": \"string\"}, \"rating\": {\"const\": 5, \"maximum\": 5, \"minimum\": 1, \"title\": \"Rating\", \"type\": \"integer\"}, \"media_type\": {\"const\": \"game\", \"default\": \"game\", \"enum\": [\"game\"], \"title\": \"Media Type\", \"type\": \"string\"}, \"review\": {\"description\": \"An epic story with stunning visuals and engaging gameplay.\", \"title\": \"Review\", \"type\": \"string\"}}, \"required\": [\"title\", \"rating\", \"review\"]}. Got: 3 validation errors for MovieReview\n",
      "title\n",
      "  Field required [type=missing, input_value={'properties': {'title': ...e', 'rating', 'review']}, input_type=dict]\n",
      "    For further information visit https://errors.pydantic.dev/2.9/v/missing\n",
      "rating\n",
      "  Field required [type=missing, input_value={'properties': {'title': ...e', 'rating', 'review']}, input_type=dict]\n",
      "    For further information visit https://errors.pydantic.dev/2.9/v/missing\n",
      "review\n",
      "  Field required [type=missing, input_value={'properties': {'title': ...e', 'rating', 'review']}, input_type=dict]\n",
      "    For further information visit https://errors.pydantic.dev/2.9/v/missing\n"
     ]
    }
   ],
   "source": [
    "# Parse by the MovieReview schema\n",
    "# Test with different types of items\n",
    "for item in items:\n",
    "    print(f\"\\nProcessing review for: {item}\")\n",
    "    review = get_movie_review(item)\n",
    "    \n",
    "    if review:\n",
    "        print(f\"Media Type: {review.media_type}\")\n",
    "        print(f\"Title: {review.title}\")\n",
    "        \n",
    "        # Print type-specific fields\n",
    "        if isinstance(review, BookReview):\n",
    "            print(f\"Author: {review.author}\")\n",
    "        elif isinstance(review, GameReview):\n",
    "            print(f\"Platform: {review.platform}\")\n",
    "            \n",
    "        print(f\"Rating: {review.rating}/5\")\n",
    "        print(f\"Review: {review.review}\")\n",
    "\n"
   ]
  },
  {
   "cell_type": "code",
   "execution_count": 10,
   "metadata": {},
   "outputs": [
    {
     "name": "stdout",
     "output_type": "stream",
     "text": [
      "\n",
      "Processing review for: The Matrix (1999 sci-fi film)\n",
      "Parsing error: Failed to parse ReviewUnion from completion null. Got: 1 validation error for ReviewUnion\n",
      "  Input should be a valid dictionary or instance of ReviewUnion [type=model_type, input_value=None, input_type=NoneType]\n",
      "    For further information visit https://errors.pydantic.dev/2.9/v/model_type\n",
      "\n",
      "Processing review for: The Hunger Games by Suzanne Collins\n",
      "Parsing error: Failed to parse ReviewUnion from completion null. Got: 1 validation error for ReviewUnion\n",
      "  Input should be a valid dictionary or instance of ReviewUnion [type=model_type, input_value=None, input_type=NoneType]\n",
      "    For further information visit https://errors.pydantic.dev/2.9/v/model_type\n",
      "\n",
      "Processing review for: Red Dead Redemption 2 for PS4\n",
      "Parsing error: Failed to parse ReviewUnion from completion {\"$defs\": {\"GameReview\": {\"properties\": {\"media_type\": {\"const\": \"game\", \"default\": \"game\", \"enum\": [\"game\"], \"title\": \"Media Type\", \"type\": \"string\"}, \"title\": {\"description\": \"Title of the game\", \"title\": \"Title\", \"type\": \"string\"}, \"platform\": {\"description\": \"Gaming platform (e.g., PS4, PC)\", \"title\": \"Platform\", \"type\": \"string\"}, \"rating\": {\"description\": \"Rating from 1-5\", \"maximum\": 5, \"minimum\": 1, \"title\": \"Rating\", \"type\": \"integer\"}, \"review\": {\"description\": \"Brief review text\", \"title\": \"Review\", \"type\": \"string\"}}, \"required\": [\"title\", \"platform\", \"rating\", \"review\"], \"title\": \"GameReview\", \"type\": \"object\"}, \"review\": {\"discriminator\": {\"mapping\": {\"game\": \"#/$defs/GameReview\"}, \"propertyName\": \"media_type\", \"oneOf\": [{\"$ref\": \"#/$defs/GameReview\"}], \"title\": \"Review\"}}}, \"required\": [\"review\"], \"title\": \"Red Dead Redemption 2 Review\", \"type\": \"object\"}. Got: 1 validation error for ReviewUnion\n",
      "review\n",
      "  Field required [type=missing, input_value={'$defs': {'GameReview': ...view', 'type': 'object'}, input_type=dict]\n",
      "    For further information visit https://errors.pydantic.dev/2.9/v/missing\n"
     ]
    }
   ],
   "source": [
    "# Parse by the union of the three review schemas\n",
    "for item in items:\n",
    "    print(f\"\\nProcessing review for: {item}\")\n",
    "    review = get_review(item)\n",
    "    \n",
    "    if review:\n",
    "        the_review = review.review\n",
    "        print(f\"Media Type: {the_review.media_type}\")\n",
    "        print(f\"Title: {the_review.title}\")\n",
    "        \n",
    "        # Print type-specific fields\n",
    "        if isinstance(the_review, BookReview):\n",
    "            print(f\"Author: {the_review.author}\")\n",
    "        elif isinstance(the_review, GameReview):\n",
    "            print(f\"Platform: {the_review.platform}\")\n",
    "            \n",
    "        print(f\"Rating: {the_review.rating}/5\")\n",
    "        print(f\"Review: {the_review.review}\")\n",
    "\n"
   ]
  }
 ],
 "metadata": {
  "kernelspec": {
   "display_name": "venv",
   "language": "python",
   "name": "python3"
  },
  "language_info": {
   "codemirror_mode": {
    "name": "ipython",
    "version": 3
   },
   "file_extension": ".py",
   "mimetype": "text/x-python",
   "name": "python",
   "nbconvert_exporter": "python",
   "pygments_lexer": "ipython3",
   "version": "3.12.7"
  }
 },
 "nbformat": 4,
 "nbformat_minor": 2
}
